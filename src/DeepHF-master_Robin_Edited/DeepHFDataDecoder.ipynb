{
 "cells": [
  {
   "cell_type": "code",
   "execution_count": 1,
   "metadata": {},
   "outputs": [
    {
     "name": "stderr",
     "output_type": "stream",
     "text": [
      "C:\\Users\\robin\\AppData\\Roaming\\Python\\Python36\\site-packages\\h5py\\__init__.py:36: FutureWarning: Conversion of the second argument of issubdtype from `float` to `np.floating` is deprecated. In future, it will be treated as `np.float64 == np.dtype(float).type`.\n",
      "  from ._conv import register_converters as _register_converters\n",
      "Using TensorFlow backend.\n",
      "c:\\Users\\robin\\anaconda3\\envs\\crispr\\lib\\site-packages\\keras\\models.py:318: UserWarning: Error in loading the saved optimizer state. As a result, your model is starting with a freshly initialized optimizer.\n",
      "  warnings.warn('Error in loading the saved optimizer '\n"
     ]
    }
   ],
   "source": [
    "import pickle\n",
    "import numpy as np\n",
    "from sklearn.model_selection import train_test_split\n",
    "from prediction_util import *\n",
    "from keras.preprocessing import sequence"
   ]
  },
  {
   "cell_type": "code",
   "execution_count": 2,
   "metadata": {},
   "outputs": [
    {
     "name": "stdout",
     "output_type": "stream",
     "text": [
      "ESP data shape =  (58617, 22)\n",
      "[[1 2 2 2 2 2 2 2 2 2 4 3 4 4 2 2 2 2 4 4 4 3]\n",
      " [1 2 2 2 2 2 2 4 2 2 4 2 2 5 2 2 5 4 2 4 2 2]\n",
      " [1 2 2 2 2 2 2 4 2 4 2 2 5 4 2 2 5 2 4 4 5 3]\n",
      " [1 2 2 2 2 2 2 4 2 5 2 3 5 4 4 2 4 4 3 5 3 5]\n",
      " [1 2 2 2 2 2 2 4 4 4 5 3 2 5 2 3 2 5 4 4 3 4]]\n",
      "Biofeat shape =  (58617, 11)\n",
      "[[  0.           0.         -14.7        -13.3          0.\n",
      "    1.           6.          46.86179822 -17.51643717   9.44740125\n",
      "  -77.98477365]\n",
      " [  0.           0.         -14.2        -10.5          0.\n",
      "    1.           6.          47.75596872 -10.18025086  10.85119385\n",
      "  -77.98477365]\n",
      " [  0.           0.         -17.         -13.3          0.\n",
      "    1.           8.          51.62485048  -6.43267221  16.55223598\n",
      "  -77.98477365]\n",
      " [  0.          -1.7        -20.8        -17.1          0.\n",
      "    1.           8.          51.73479019 -10.28003693  15.10601393\n",
      "  -77.98477365]\n",
      " [  1.           0.         -21.4        -16.4          0.\n",
      "    1.           8.          49.86316327  -9.83416842  17.33367012\n",
      "  -77.98477365]]\n",
      "y shape =  (58617,)\n",
      "[0.14206272 0.05190134 0.04357326 0.05234294 0.04623446]\n"
     ]
    }
   ],
   "source": [
    "with open(r'./data/esp_seq_data_array.pkl', 'rb') as handle:\n",
    "    esp_data = pickle.load(handle)\n",
    "    \n",
    "X,X_biofeat,y = esp_data\n",
    "\n",
    "print(\"ESP data shape = \", X.shape)\n",
    "print(X[:5])\n",
    "\n",
    "print(\"Biofeat shape = \", X_biofeat.shape)\n",
    "print(X_biofeat[:5])\n",
    "\n",
    "print(\"y shape = \", y.shape)\n",
    "print(y[:5])"
   ]
  },
  {
   "cell_type": "code",
   "execution_count": 3,
   "metadata": {},
   "outputs": [
    {
     "name": "stdout",
     "output_type": "stream",
     "text": [
      "gRNA_ENC shape =  (5, 22)\n",
      "len =  21\n",
      "len =  21\n",
      "len =  21\n",
      "len =  21\n",
      "len =  21\n"
     ]
    }
   ],
   "source": [
    "gRNA = [\"GGCCGCCTCAGCCCACCAGCC\" ,\"GCCGCCTCAGCCCACCAGCCG\", \"GCTGTCCGCCGCCCGCCCCCA\", \"CTGTCCGCCGCCCGCCCCCAG\", \"CGCGTCCCGTCCCACCGTCGC\"]\n",
    "\n",
    "gRNA_ENC = make_data(gRNA)\n",
    "print(\"gRNA_ENC shape = \", gRNA_ENC.shape)\n",
    "\n",
    "\n",
    "\n",
    "for dnastring in gRNA:\n",
    "    print(\"len = \", len(dnastring))\n",
    "\n",
    "#C=4 G=5 A=2 T=3 START=1"
   ]
  },
  {
   "cell_type": "code",
   "execution_count": 4,
   "metadata": {},
   "outputs": [],
   "source": [
    "#reconstruct gRNA from encoded dataset\n",
    "def remake(X):\n",
    "    remake = []\n",
    "    for i in range(len(X)):\n",
    "        dna = \"\"\n",
    "        for j in range(len(X[i])):\n",
    "            #if X[i][j] == 1:\n",
    "                #dna+=\"START\"\n",
    "            if X[i][j] == 2:\n",
    "                dna+=\"A\"\n",
    "            elif X[i][j] == 3:\n",
    "                dna+=\"T\"\n",
    "            elif X[i][j] == 4:\n",
    "                dna+=\"C\"\n",
    "            elif X[i][j] == 5:\n",
    "                dna+=\"G\"\n",
    "        remake.append(dna)\n",
    "    return remake"
   ]
  },
  {
   "cell_type": "code",
   "execution_count": 5,
   "metadata": {},
   "outputs": [
    {
     "name": "stdout",
     "output_type": "stream",
     "text": [
      "[[1 5 5 4 4 5 4 4 3 4 2 5 4 4 4 2 4 4 2 5 4 4]\n",
      " [1 5 4 4 5 4 4 3 4 2 5 4 4 4 2 4 4 2 5 4 4 5]\n",
      " [1 5 4 3 5 3 4 4 5 4 4 5 4 4 4 5 4 4 4 4 4 2]\n",
      " [1 4 3 5 3 4 4 5 4 4 5 4 4 4 5 4 4 4 4 4 2 5]\n",
      " [1 4 5 4 5 3 4 4 4 5 3 4 4 4 2 4 4 5 3 4 5 4]]\n",
      "['GGCCGCCTCAGCCCACCAGCC', 'GCCGCCTCAGCCCACCAGCCG', 'GCTGTCCGCCGCCCGCCCCCA', 'CTGTCCGCCGCCCGCCCCCAG', 'CGCGTCCCGTCCCACCGTCGC']\n",
      "['GGCCGCCTCAGCCCACCAGCC', 'GCCGCCTCAGCCCACCAGCCG', 'GCTGTCCGCCGCCCGCCCCCA', 'CTGTCCGCCGCCCGCCCCCAG', 'CGCGTCCCGTCCCACCGTCGC']\n"
     ]
    }
   ],
   "source": [
    "#remake function check\n",
    "print(gRNA_ENC)\n",
    "print(gRNA)\n",
    "print(remake(gRNA_ENC))"
   ]
  },
  {
   "cell_type": "markdown",
   "metadata": {},
   "source": [
    "Check if data actually turns out the same after decoding"
   ]
  },
  {
   "cell_type": "code",
   "execution_count": 6,
   "metadata": {},
   "outputs": [
    {
     "name": "stdout",
     "output_type": "stream",
     "text": [
      "Constructing sencondary structure features.\n",
      "N-None,N2-441\n",
      "N-None,N2-441\n",
      "Constructing nucleotide features.\n",
      "N-None,N2-441\n",
      "N-None,N2-441\n",
      "X_1= [[1 5 5 ... 5 4 4]\n",
      " [1 5 4 ... 4 4 5]\n",
      " [1 5 4 ... 4 4 2]\n",
      " ...\n",
      " [1 5 3 ... 5 5 4]\n",
      " [1 3 5 ... 5 4 5]\n",
      " [1 5 4 ... 5 5 4]]\n"
     ]
    }
   ],
   "source": [
    "seq = '''GCGGTGCCGCCCGCCGTGGCCGCCTCAGCCCACCAGCCGGGACCGCGAGCCATGCTGTCCGCCGCCCGCCCCCAGGGTTGTTAAAGCCAGACTGCGAACTCTCGCCACTGCCGCCACCGCCGCGTCCCGTCCCACCGTCGCGGGCAACAACCAAAGTCGCCGCAACTGCAGCACAGAGCGGGCAAAGCCAGGCAGGCCATGGGGCTCTGGGCGCTGTTGCCTGGCTGGGTTTCTGCTACGCTGCTGCTGGCGCTGGCCGCTCTGCCCGCAGCCCTGGCTGCCAACAGCAGTGGCCGATGGTGGGGTATTGTGAACGTAGCCTCCTCCACGAACCTGCTTACAGACTCCAAGAGTCTGCAACTGGTACTCGAGCCCAGTCTGCAGCTGTTGAGCCGCAAACAGCGGCGTCTGATACGCCAAAATCCGGGGATCCTGCACAGCGTGAGTGGGGGGCTGCAGAGTGCCGTGCGCGAGTGCAAGTGGCAGTTCCGGAATCGCCGCTGGAACTGTCCCACTGCTCCAGGGCCCCACCTCTTCGGCAAGATCGTCAACCGAGGCTGTCGAGAAACGGCGTTTATCTTCGCTATCACCTCCGCCGGGGTCACCCATTCGGTGGCGCGCTCCTGCTCAGAAGGTTCCATCGAATCCTGCACGTGTGACTACCGGCGGCGCGGCCCCGGGGGCCCCGACTGGCACTGGGGGGGCTGCAGCGACAACATTGACTTCGGCCGCCTCTTCGGCCGGGAGTTCGTGGACTCCGGGGAGAAGGGGCGGGACCTGCGCTTCCTCATGAACCTTCACAACAACGAGGCAGGCCGTACGACCGTATTCTCCGAGATGCGCCAGGAGTGCAAGTGCCACGGGATGTCCGGCTCATGCACGGTGCGCACGTGCTGGATGCGGCTGCCCACGCTGCGCGCCGTGGGCGATGTGCTGCGCGACCGCTTCGACGGCGCCTCGCGCGTCCTGTACGGCAACCGCGGCAGCAACCGCGCTTCGCGGGCGGAGCTGCTGCGCCTGGAGCCGGAAGACCCGGCCCACAAACCGCCCTCCCCCCACGACCTCGTCTACTTCGAGAAATCGCCCAACTTCTGCACGTACAGCGGACGCCTGGGCACAGCAGGCACGGCAGGGCGCGCCTGTAACAGCTCGTCGCCCGCGCTGGACGGCTGCGAGCTGCTCTGCTGCGGCAGGGGCCACCGCACGCGCACGCAGCGCGTCACCGAGCGCTGCAACTGCACCTTCCACTGGTGCTGCCACGTCAGCTGCCGCAACTGCACGCACACGCGCGTACTGCACGAGTGTCTGTGAGGCGCTGCGCGGACTCGCCCCCAGGAACGCTCTCCTCGAGCCCTCCCCCAAACAGACTCGCTAGCACTCAAGACCCGGTTATTCGCCCACCCGAGTACCTCCAGTCACACTCCCCGCGGTTCATACGCATCCCATCTCTCCCACTTCCTCCTACCTGGGGACTCCTCAAACCACTTGCCTGGGGCGGCATGAACCCTCTTGCCATCCTGATGGACCTGCCCCGGACCTACCTCCCTCCCTCTCCGCGGGAGACCCCTTGTTGCACTGCCCCCTGCTTGGCCAGGAGGTGAGAGAAGGATGGGTCCCCTCCGCCATGGGGTCGGCTCCTGATGGTGTCATTCTGCCTGCTCCATCGCGCCAGCGACCTCTCTGCCTCTCTTCTTCCCCTTTGTCCTGCGTTTTCTCCGGGTCCTCCTAAGTCCCTTCCTATTCTCCTGCCATGGGTGCAGACCCTGAACCCACACCTGGGCATCAGGGCCTTTCTCCTCCCCACCTGTAGCTGAAGCAGGAGGTTACAGGGCAAAAGGGCAGCTGTGATGATGTGGAAATGAGGTTGGGGGAACCAGCAGAAATGCCCCCATTCTCCCAGTCTCTGTCGTGGAGCCATTGAACAGCTGTGAGCCATGCCTCCCTGGGCCACCTCCTACCCCTTCCTGTCCTGCCTCCTCATCAGTGTGTAAATAATTTGCACTGAAACGTGGATACAGAGCCACGAGTTTGGATGTTGTAAATAAAACTATTTATTGTGCTGGGTCCCAGCCTGGTTTGCAAAGACCACCTCCAACCCAACCCAATCCCTCTCCACTCTTCTCTCCTTTCTCCCTGCAGCCTTTTCTGGTCCCTCTTCTCTCCTCAGTTTCTCAAAGATGCGTTTGCCTCCTGGAATCAGTATTTCCTTCCACTGTAGCTATTAGCGGCTCCTCGCCCCCACCAGTGTAGCATCTTCCTCTGCAGAATAAAATCTCTATTTTTA'''\n",
    "enzyme = 'esp'\n",
    "\n",
    "encoded = encode_only(seq, enzyme)"
   ]
  },
  {
   "cell_type": "code",
   "execution_count": 7,
   "metadata": {},
   "outputs": [
    {
     "name": "stdout",
     "output_type": "stream",
     "text": [
      "(441, 22)\n",
      "Valid decode\n"
     ]
    }
   ],
   "source": [
    "print(encoded.shape)\n",
    "\n",
    "decoded  = remake(encoded)\n",
    "\n",
    "is_valid = True\n",
    "for i in range(len(decoded)):\n",
    "    if(len(decoded[i]) != 21):\n",
    "        is_valid = False\n",
    "        print(\"ERROR\")\n",
    "        break\n",
    "print(\"Valid decode\")\n"
   ]
  },
  {
   "cell_type": "markdown",
   "metadata": {},
   "source": [
    "Creating new dataset not decoded"
   ]
  },
  {
   "cell_type": "code",
   "execution_count": 10,
   "metadata": {},
   "outputs": [],
   "source": [
    "def create_dataset(name, with_biofeat=False):\n",
    "    filename = f'./data/{name}_seq_data_array.pkl'\n",
    "\n",
    "    with open(filename, 'rb') as handle:\n",
    "        data = pickle.load(handle)\n",
    "\n",
    "    X,X_biofeat,y = data\n",
    "\n",
    "    df = pd.DataFrame(columns=['seq' ,'y'])\n",
    "\n",
    "    df['seq'] = remake(X)\n",
    "\n",
    "    if with_biofeat:\n",
    "        #make 11 biofeat columns\n",
    "        for i in range(11):\n",
    "            df['biofeat_'+ str(i)] = X_biofeat[:,i]\n",
    "\n",
    "    df['y'] = y\n",
    "\n",
    "    # print(df.head())\n",
    "    # print(df.shape)\n",
    "\n",
    "    #split df into train and test\n",
    "    train, test = train_test_split(df, test_size=0.1, random_state=42)\n",
    "\n",
    "    print(f\"New  {name} dataset\")\n",
    "    print(train.head())\n",
    "    print(\"Train shape = \", train.shape)\n",
    "    print(\"Test shape = \", test.shape)\n",
    "\n",
    "\n",
    "    if(with_biofeat):\n",
    "        name += '_biofeat'\n",
    "\n",
    "    #create dir if not exist\n",
    "    if not os.path.exists(f'./data01/{name}'):\n",
    "        os.makedirs(f'./data01/{name}')\n",
    "    \n",
    "    #remove files if exist\n",
    "    if os.path.exists(f'./data01/{name}/test_{name}_decoded.csv'):\n",
    "        os.remove(f'./data01/{name}/test_{name}_decoded.csv')\n",
    "    if os.path.exists(f'./data01/{name}/train_{name}_decoded.csv'):\n",
    "        os.remove(f'./data01/{name}/train_{name}_decoded.csv')\n",
    "    \n",
    "\n",
    "    #save to csv\n",
    "    test.to_csv(f'./data01/{name}/test_{name}_decoded.csv', index=False)\n",
    "    train.to_csv(f'./data01/{name}/train_{name}_decoded.csv', index=False)\n",
    "    print(\"Saved to csv\")\n",
    "    print(\"\")"
   ]
  },
  {
   "cell_type": "code",
   "execution_count": 11,
   "metadata": {},
   "outputs": [
    {
     "name": "stdout",
     "output_type": "stream",
     "text": [
      "New  esp dataset\n",
      "                         seq        y  biofeat_0  biofeat_1  biofeat_2  \\\n",
      "54107  GTCCAGGCCCGACTTGAGAGA  0.56835        0.0       -2.4      -29.1   \n",
      "50736  GGTCAAGGAAGTAGCAAAAGA  0.38351        0.0        0.0      -19.2   \n",
      "10877  ACTACCAACCATACACCGTGT  0.59186        0.0        0.0      -24.7   \n",
      "45848  GGATACTCCTAGAGCACCACA  0.40749        0.0       -1.5      -25.8   \n",
      "49122  GGGCATGACCGACCCACCAGG  0.34875        0.0       -4.0      -30.9   \n",
      "\n",
      "       biofeat_3  biofeat_4  biofeat_5  biofeat_6  biofeat_7  biofeat_8  \\\n",
      "54107      -15.5        1.0        0.0       13.0   57.62226  -19.40875   \n",
      "50736       -8.9        0.0        1.0        9.0   49.99388  -28.15914   \n",
      "10877      -15.4        0.0        0.0       10.0   53.11388   -5.35736   \n",
      "45848      -16.5        1.0        0.0       11.0   52.42193  -14.04412   \n",
      "49122      -19.1        1.0        0.0       14.0   61.44905  -11.30664   \n",
      "\n",
      "       biofeat_9  biofeat_10  \n",
      "54107   27.87738   -50.45276  \n",
      "50736    7.26237   -50.45276  \n",
      "10877   11.73050   -77.24687  \n",
      "45848    9.84443   -64.53892  \n",
      "49122   18.67625   -38.85893  \n",
      "Train shape =  (52755, 13)\n",
      "Test shape =  (5862, 13)\n",
      "Saved to csv\n",
      "\n",
      "New  hf dataset\n",
      "                         seq        y  biofeat_0  biofeat_1  biofeat_2  \\\n",
      "12208  ACTTGGAGCTTTATGCCGAGA  0.36721        0.0       -3.5      -24.8   \n",
      "25387  ATTTACACAGATCACATGAAA  0.07997        0.0        0.0      -18.2   \n",
      "10723  ACTCACAAACAACATTGCTGA  0.44551        0.0        0.0      -19.6   \n",
      "31671  GAGTGCGCAGGGTATCCGCAT  0.58595        0.0       -2.7      -29.9   \n",
      "32135  GATCAATGTACAGAATAATGT  0.57588        0.0        0.0      -15.7   \n",
      "\n",
      "       biofeat_3  biofeat_4  biofeat_5  biofeat_6  biofeat_7  biofeat_8  \\\n",
      "12208      -15.5        0.0        0.0       10.0   53.54580   -8.87429   \n",
      "25387      -10.9        0.0        1.0        6.0   45.26859  -27.98803   \n",
      "10723      -10.9        0.0        1.0        8.0   50.76630  -12.34690   \n",
      "31671      -17.4        1.0        0.0       13.0   59.32160   -4.06680   \n",
      "32135       -8.4        0.0        1.0        6.0   43.28575  -30.29297   \n",
      "\n",
      "       biofeat_9  biofeat_10  \n",
      "12208   12.33094   -71.84055  \n",
      "25387   12.72303   -81.61460  \n",
      "10723   11.75931   -61.13408  \n",
      "31671   30.51444   -61.13408  \n",
      "32135    7.95695   -60.16287  \n",
      "Train shape =  (51199, 13)\n",
      "Test shape =  (5689, 13)\n",
      "Saved to csv\n",
      "\n",
      "New  wt dataset\n",
      "                         seq        y  biofeat_0  biofeat_1  biofeat_2  \\\n",
      "24589  ATTGCTTGAAGAAACACTACA  0.25656        0.0        0.0      -17.9   \n",
      "9462   ACCTTTGAAGTAAAGATTGGG  0.84429        0.0       -0.5      -18.6   \n",
      "47952  GGTAGCACACACAGTCCCGTG  0.85637        0.0        0.0      -28.9   \n",
      "27224  GAATGCAAGGAGTTAACACTG  0.81129        0.0        0.0      -19.8   \n",
      "19151  AGTCCGGGTACCCCTCTACGT  0.89091        0.0       -2.6      -30.8   \n",
      "\n",
      "       biofeat_3  biofeat_4  biofeat_5  biofeat_6  biofeat_7  biofeat_8  \\\n",
      "24589       -8.7        0.0        1.0        7.0   47.86060  -23.97127   \n",
      "9462        -8.4        0.0        1.0        7.0   47.84309  -17.42832   \n",
      "47952      -17.8        1.0        0.0       12.0   57.42552   -1.45632   \n",
      "27224      -11.8        0.0        1.0        8.0   49.46451  -14.52474   \n",
      "19151      -17.7        1.0        0.0       13.0   57.84558  -14.53598   \n",
      "\n",
      "       biofeat_9  biofeat_10  \n",
      "24589    8.55562   -68.25137  \n",
      "9462     4.81306   -65.88690  \n",
      "47952   21.43867   -64.82853  \n",
      "27224   18.45106   -70.16997  \n",
      "19151   23.97105   -61.13408  \n",
      "Train shape =  (50043, 13)\n",
      "Test shape =  (5561, 13)\n",
      "Saved to csv\n",
      "\n",
      "New  esp dataset\n",
      "                         seq        y\n",
      "54107  GTCCAGGCCCGACTTGAGAGA  0.56835\n",
      "50736  GGTCAAGGAAGTAGCAAAAGA  0.38351\n",
      "10877  ACTACCAACCATACACCGTGT  0.59186\n",
      "45848  GGATACTCCTAGAGCACCACA  0.40749\n",
      "49122  GGGCATGACCGACCCACCAGG  0.34875\n",
      "Train shape =  (52755, 2)\n",
      "Test shape =  (5862, 2)\n",
      "Saved to csv\n",
      "\n",
      "New  hf dataset\n",
      "                         seq        y\n",
      "12208  ACTTGGAGCTTTATGCCGAGA  0.36721\n",
      "25387  ATTTACACAGATCACATGAAA  0.07997\n",
      "10723  ACTCACAAACAACATTGCTGA  0.44551\n",
      "31671  GAGTGCGCAGGGTATCCGCAT  0.58595\n",
      "32135  GATCAATGTACAGAATAATGT  0.57588\n",
      "Train shape =  (51199, 2)\n",
      "Test shape =  (5689, 2)\n",
      "Saved to csv\n",
      "\n",
      "New  wt dataset\n",
      "                         seq        y\n",
      "24589  ATTGCTTGAAGAAACACTACA  0.25656\n",
      "9462   ACCTTTGAAGTAAAGATTGGG  0.84429\n",
      "47952  GGTAGCACACACAGTCCCGTG  0.85637\n",
      "27224  GAATGCAAGGAGTTAACACTG  0.81129\n",
      "19151  AGTCCGGGTACCCCTCTACGT  0.89091\n",
      "Train shape =  (50043, 2)\n",
      "Test shape =  (5561, 2)\n",
      "Saved to csv\n",
      "\n"
     ]
    }
   ],
   "source": [
    "#load data\n",
    "create_dataset('esp', with_biofeat=True)\n",
    "create_dataset('hf', with_biofeat=True)\n",
    "create_dataset('wt', with_biofeat=True)\n",
    "\n",
    "create_dataset('esp', with_biofeat=False)\n",
    "create_dataset('hf', with_biofeat=False)\n",
    "create_dataset('wt', with_biofeat=False)"
   ]
  },
  {
   "cell_type": "code",
   "execution_count": null,
   "metadata": {},
   "outputs": [],
   "source": [
    "#compare different biofeats\n",
    "\n",
    "# with open(r'./data/esp_seq_data_array.pkl', 'rb') as handle:\n",
    "#     esp_data = pickle.load(handle)\n",
    "# with open(r'./data/hf_seq_data_array.pkl', 'rb') as handle:\n",
    "#     hf_data = pickle.load(handle)\n",
    "# with open(r'./data/wt_seq_data_array.pkl', 'rb') as handle:\n",
    "#     wt_data = pickle.load(handle)\n",
    "\n",
    "# X_wt,X_biofeat_wt,y_wt = wt_data\n",
    "# X_esp,X_biofeat_esp,y_esp = esp_data\n",
    "# X_hf,X_biofeat_hf,y_hf = hf_data\n",
    "\n",
    "# print(\"wt to esp\")\n",
    "# for i in range(10):\n",
    "#     if(X_biofeat_wt[1,i] !=  X_biofeat_esp[1,i]):\n",
    "#         print(\"Biofeat not equal\")\n",
    "#     if(X_wt[1,i] !=  X_esp[1,i]):\n",
    "#         print(\"X not equal\")\n",
    "#     if(y_wt[1] !=  y_esp[1]):\n",
    "#         print(\"y not equal\")\n",
    "\n",
    "# print(\"wt to hf\")\n",
    "# for i in range(10):\n",
    "#     if(X_biofeat_wt[1,i] !=  X_biofeat_hf[1,i]):\n",
    "#         print(\"Biofeat not equal\")\n",
    "#     if(X_wt[1,i] !=  X_hf[1,i]):\n",
    "#         print(\"X not equal\")\n",
    "#     if(y_wt[1] !=  y_hf[1]):\n",
    "#         print(\"y not equal\")\n",
    "\n",
    "# print(\"hf to esp\")\n",
    "# for i in range(10):\n",
    "#     if(X_biofeat_hf[1,i] !=  X_biofeat_esp[1,i]):\n",
    "#         print(\"Biofeat not equal\")\n",
    "#     if(X_hf[1,i] !=  X_esp[1,i]):\n",
    "#         print(\"X not equal\")\n",
    "#     if(y_hf[1] !=  y_esp[1]):\n",
    "#         print(\"y not equal\")"
   ]
  },
  {
   "cell_type": "markdown",
   "metadata": {},
   "source": [
    "We can conclude that only the enzyme is different so onl;y different y on datasets"
   ]
  },
  {
   "cell_type": "markdown",
   "metadata": {},
   "source": []
  }
 ],
 "metadata": {
  "kernelspec": {
   "display_name": "crispr",
   "language": "python",
   "name": "python3"
  },
  "language_info": {
   "codemirror_mode": {
    "name": "ipython",
    "version": 3
   },
   "file_extension": ".py",
   "mimetype": "text/x-python",
   "name": "python",
   "nbconvert_exporter": "python",
   "pygments_lexer": "ipython3",
   "version": "3.6.5"
  }
 },
 "nbformat": 4,
 "nbformat_minor": 2
}
