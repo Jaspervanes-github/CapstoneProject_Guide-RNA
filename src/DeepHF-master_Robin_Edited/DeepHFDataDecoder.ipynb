{
 "cells": [
  {
   "cell_type": "code",
   "execution_count": 1,
   "metadata": {},
   "outputs": [
    {
     "name": "stderr",
     "output_type": "stream",
     "text": [
      "C:\\Users\\robin\\AppData\\Roaming\\Python\\Python36\\site-packages\\h5py\\__init__.py:36: FutureWarning: Conversion of the second argument of issubdtype from `float` to `np.floating` is deprecated. In future, it will be treated as `np.float64 == np.dtype(float).type`.\n",
      "  from ._conv import register_converters as _register_converters\n",
      "Using TensorFlow backend.\n",
      "c:\\Users\\robin\\anaconda3\\envs\\crispr\\lib\\site-packages\\keras\\models.py:318: UserWarning: Error in loading the saved optimizer state. As a result, your model is starting with a freshly initialized optimizer.\n",
      "  warnings.warn('Error in loading the saved optimizer '\n"
     ]
    }
   ],
   "source": [
    "import pickle\n",
    "import numpy as np\n",
    "from sklearn.model_selection import train_test_split\n",
    "from prediction_util import *\n",
    "from keras.preprocessing import sequence"
   ]
  },
  {
   "cell_type": "code",
   "execution_count": 2,
   "metadata": {},
   "outputs": [
    {
     "name": "stdout",
     "output_type": "stream",
     "text": [
      "ESP data shape =  (58617, 22)\n",
      "[[1 2 2 2 2 2 2 2 2 2 4 3 4 4 2 2 2 2 4 4 4 3]\n",
      " [1 2 2 2 2 2 2 4 2 2 4 2 2 5 2 2 5 4 2 4 2 2]\n",
      " [1 2 2 2 2 2 2 4 2 4 2 2 5 4 2 2 5 2 4 4 5 3]\n",
      " [1 2 2 2 2 2 2 4 2 5 2 3 5 4 4 2 4 4 3 5 3 5]\n",
      " [1 2 2 2 2 2 2 4 4 4 5 3 2 5 2 3 2 5 4 4 3 4]]\n",
      "Biofeat shape =  (58617, 11)\n",
      "[[  0.           0.         -14.7        -13.3          0.\n",
      "    1.           6.          46.86179822 -17.51643717   9.44740125\n",
      "  -77.98477365]\n",
      " [  0.           0.         -14.2        -10.5          0.\n",
      "    1.           6.          47.75596872 -10.18025086  10.85119385\n",
      "  -77.98477365]\n",
      " [  0.           0.         -17.         -13.3          0.\n",
      "    1.           8.          51.62485048  -6.43267221  16.55223598\n",
      "  -77.98477365]\n",
      " [  0.          -1.7        -20.8        -17.1          0.\n",
      "    1.           8.          51.73479019 -10.28003693  15.10601393\n",
      "  -77.98477365]\n",
      " [  1.           0.         -21.4        -16.4          0.\n",
      "    1.           8.          49.86316327  -9.83416842  17.33367012\n",
      "  -77.98477365]]\n",
      "y shape =  (58617,)\n",
      "[0.14206272 0.05190134 0.04357326 0.05234294 0.04623446]\n"
     ]
    }
   ],
   "source": [
    "with open(r'./data/esp_seq_data_array.pkl', 'rb') as handle:\n",
    "    esp_data = pickle.load(handle)\n",
    "    \n",
    "X,X_biofeat,y = esp_data\n",
    "\n",
    "print(\"ESP data shape = \", X.shape)\n",
    "print(X[:5])\n",
    "\n",
    "print(\"Biofeat shape = \", X_biofeat.shape)\n",
    "print(X_biofeat[:5])\n",
    "\n",
    "print(\"y shape = \", y.shape)\n",
    "print(y[:5])"
   ]
  },
  {
   "cell_type": "code",
   "execution_count": 3,
   "metadata": {},
   "outputs": [
    {
     "name": "stdout",
     "output_type": "stream",
     "text": [
      "gRNA_ENC shape =  (5, 22)\n",
      "len =  21\n",
      "len =  21\n",
      "len =  21\n",
      "len =  21\n",
      "len =  21\n"
     ]
    }
   ],
   "source": [
    "gRNA = [\"GGCCGCCTCAGCCCACCAGCC\" ,\"GCCGCCTCAGCCCACCAGCCG\", \"GCTGTCCGCCGCCCGCCCCCA\", \"CTGTCCGCCGCCCGCCCCCAG\", \"CGCGTCCCGTCCCACCGTCGC\"]\n",
    "\n",
    "gRNA_ENC = make_data(gRNA)\n",
    "print(\"gRNA_ENC shape = \", gRNA_ENC.shape)\n",
    "\n",
    "\n",
    "\n",
    "for dnastring in gRNA:\n",
    "    print(\"len = \", len(dnastring))\n",
    "\n",
    "#C=4 G=5 A=2 T=3 START=1"
   ]
  },
  {
   "cell_type": "code",
   "execution_count": 4,
   "metadata": {},
   "outputs": [],
   "source": [
    "#reconstruct gRNA from encoded dataset\n",
    "def remake(X):\n",
    "    remake = []\n",
    "    for i in range(len(X)):\n",
    "        dna = \"\"\n",
    "        for j in range(len(X[i])):\n",
    "            #if X[i][j] == 1:\n",
    "                #dna+=\"START\"\n",
    "            if X[i][j] == 2:\n",
    "                dna+=\"A\"\n",
    "            elif X[i][j] == 3:\n",
    "                dna+=\"T\"\n",
    "            elif X[i][j] == 4:\n",
    "                dna+=\"C\"\n",
    "            elif X[i][j] == 5:\n",
    "                dna+=\"G\"\n",
    "        remake.append(dna)\n",
    "    return remake"
   ]
  },
  {
   "cell_type": "code",
   "execution_count": 5,
   "metadata": {},
   "outputs": [
    {
     "name": "stdout",
     "output_type": "stream",
     "text": [
      "[[1 5 5 4 4 5 4 4 3 4 2 5 4 4 4 2 4 4 2 5 4 4]\n",
      " [1 5 4 4 5 4 4 3 4 2 5 4 4 4 2 4 4 2 5 4 4 5]\n",
      " [1 5 4 3 5 3 4 4 5 4 4 5 4 4 4 5 4 4 4 4 4 2]\n",
      " [1 4 3 5 3 4 4 5 4 4 5 4 4 4 5 4 4 4 4 4 2 5]\n",
      " [1 4 5 4 5 3 4 4 4 5 3 4 4 4 2 4 4 5 3 4 5 4]]\n",
      "['GGCCGCCTCAGCCCACCAGCC', 'GCCGCCTCAGCCCACCAGCCG', 'GCTGTCCGCCGCCCGCCCCCA', 'CTGTCCGCCGCCCGCCCCCAG', 'CGCGTCCCGTCCCACCGTCGC']\n",
      "['GGCCGCCTCAGCCCACCAGCC', 'GCCGCCTCAGCCCACCAGCCG', 'GCTGTCCGCCGCCCGCCCCCA', 'CTGTCCGCCGCCCGCCCCCAG', 'CGCGTCCCGTCCCACCGTCGC']\n"
     ]
    }
   ],
   "source": [
    "#remake function check\n",
    "print(gRNA_ENC)\n",
    "print(gRNA)\n",
    "print(remake(gRNA_ENC))"
   ]
  },
  {
   "cell_type": "markdown",
   "metadata": {},
   "source": [
    "Check if data actually turns out the same after decoding"
   ]
  },
  {
   "cell_type": "code",
   "execution_count": 6,
   "metadata": {},
   "outputs": [
    {
     "name": "stdout",
     "output_type": "stream",
     "text": [
      "Constructing sencondary structure features.\n",
      "N-None,N2-441\n",
      "N-None,N2-441\n",
      "Constructing nucleotide features.\n",
      "N-None,N2-441\n",
      "N-None,N2-441\n"
     ]
    }
   ],
   "source": [
    "seq = '''GCGGTGCCGCCCGCCGTGGCCGCCTCAGCCCACCAGCCGGGACCGCGAGCCATGCTGTCCGCCGCCCGCCCCCAGGGTTGTTAAAGCCAGACTGCGAACTCTCGCCACTGCCGCCACCGCCGCGTCCCGTCCCACCGTCGCGGGCAACAACCAAAGTCGCCGCAACTGCAGCACAGAGCGGGCAAAGCCAGGCAGGCCATGGGGCTCTGGGCGCTGTTGCCTGGCTGGGTTTCTGCTACGCTGCTGCTGGCGCTGGCCGCTCTGCCCGCAGCCCTGGCTGCCAACAGCAGTGGCCGATGGTGGGGTATTGTGAACGTAGCCTCCTCCACGAACCTGCTTACAGACTCCAAGAGTCTGCAACTGGTACTCGAGCCCAGTCTGCAGCTGTTGAGCCGCAAACAGCGGCGTCTGATACGCCAAAATCCGGGGATCCTGCACAGCGTGAGTGGGGGGCTGCAGAGTGCCGTGCGCGAGTGCAAGTGGCAGTTCCGGAATCGCCGCTGGAACTGTCCCACTGCTCCAGGGCCCCACCTCTTCGGCAAGATCGTCAACCGAGGCTGTCGAGAAACGGCGTTTATCTTCGCTATCACCTCCGCCGGGGTCACCCATTCGGTGGCGCGCTCCTGCTCAGAAGGTTCCATCGAATCCTGCACGTGTGACTACCGGCGGCGCGGCCCCGGGGGCCCCGACTGGCACTGGGGGGGCTGCAGCGACAACATTGACTTCGGCCGCCTCTTCGGCCGGGAGTTCGTGGACTCCGGGGAGAAGGGGCGGGACCTGCGCTTCCTCATGAACCTTCACAACAACGAGGCAGGCCGTACGACCGTATTCTCCGAGATGCGCCAGGAGTGCAAGTGCCACGGGATGTCCGGCTCATGCACGGTGCGCACGTGCTGGATGCGGCTGCCCACGCTGCGCGCCGTGGGCGATGTGCTGCGCGACCGCTTCGACGGCGCCTCGCGCGTCCTGTACGGCAACCGCGGCAGCAACCGCGCTTCGCGGGCGGAGCTGCTGCGCCTGGAGCCGGAAGACCCGGCCCACAAACCGCCCTCCCCCCACGACCTCGTCTACTTCGAGAAATCGCCCAACTTCTGCACGTACAGCGGACGCCTGGGCACAGCAGGCACGGCAGGGCGCGCCTGTAACAGCTCGTCGCCCGCGCTGGACGGCTGCGAGCTGCTCTGCTGCGGCAGGGGCCACCGCACGCGCACGCAGCGCGTCACCGAGCGCTGCAACTGCACCTTCCACTGGTGCTGCCACGTCAGCTGCCGCAACTGCACGCACACGCGCGTACTGCACGAGTGTCTGTGAGGCGCTGCGCGGACTCGCCCCCAGGAACGCTCTCCTCGAGCCCTCCCCCAAACAGACTCGCTAGCACTCAAGACCCGGTTATTCGCCCACCCGAGTACCTCCAGTCACACTCCCCGCGGTTCATACGCATCCCATCTCTCCCACTTCCTCCTACCTGGGGACTCCTCAAACCACTTGCCTGGGGCGGCATGAACCCTCTTGCCATCCTGATGGACCTGCCCCGGACCTACCTCCCTCCCTCTCCGCGGGAGACCCCTTGTTGCACTGCCCCCTGCTTGGCCAGGAGGTGAGAGAAGGATGGGTCCCCTCCGCCATGGGGTCGGCTCCTGATGGTGTCATTCTGCCTGCTCCATCGCGCCAGCGACCTCTCTGCCTCTCTTCTTCCCCTTTGTCCTGCGTTTTCTCCGGGTCCTCCTAAGTCCCTTCCTATTCTCCTGCCATGGGTGCAGACCCTGAACCCACACCTGGGCATCAGGGCCTTTCTCCTCCCCACCTGTAGCTGAAGCAGGAGGTTACAGGGCAAAAGGGCAGCTGTGATGATGTGGAAATGAGGTTGGGGGAACCAGCAGAAATGCCCCCATTCTCCCAGTCTCTGTCGTGGAGCCATTGAACAGCTGTGAGCCATGCCTCCCTGGGCCACCTCCTACCCCTTCCTGTCCTGCCTCCTCATCAGTGTGTAAATAATTTGCACTGAAACGTGGATACAGAGCCACGAGTTTGGATGTTGTAAATAAAACTATTTATTGTGCTGGGTCCCAGCCTGGTTTGCAAAGACCACCTCCAACCCAACCCAATCCCTCTCCACTCTTCTCTCCTTTCTCCCTGCAGCCTTTTCTGGTCCCTCTTCTCTCCTCAGTTTCTCAAAGATGCGTTTGCCTCCTGGAATCAGTATTTCCTTCCACTGTAGCTATTAGCGGCTCCTCGCCCCCACCAGTGTAGCATCTTCCTCTGCAGAATAAAATCTCTATTTTTA'''\n",
    "enzyme = 'esp'\n",
    "\n",
    "encoded = encode_only(seq, enzyme)"
   ]
  },
  {
   "cell_type": "code",
   "execution_count": 7,
   "metadata": {},
   "outputs": [
    {
     "name": "stdout",
     "output_type": "stream",
     "text": [
      "(441, 22)\n",
      "Valid decode\n"
     ]
    }
   ],
   "source": [
    "print(encoded.shape)\n",
    "\n",
    "decoded  = remake(encoded)\n",
    "\n",
    "is_valid = True\n",
    "for i in range(len(decoded)):\n",
    "    if(len(decoded[i]) != 21):\n",
    "        is_valid = False\n",
    "        print(\"ERROR\")\n",
    "        break\n",
    "print(\"Valid decode\")\n"
   ]
  },
  {
   "cell_type": "markdown",
   "metadata": {},
   "source": [
    "Creating new dataset not decoded"
   ]
  },
  {
   "cell_type": "code",
   "execution_count": 8,
   "metadata": {},
   "outputs": [],
   "source": [
    "def create_dataset(name, with_biofeat=False):\n",
    "    filename = f'./data/{name}_seq_data_array.pkl'\n",
    "\n",
    "    with open(filename, 'rb') as handle:\n",
    "        data = pickle.load(handle)\n",
    "\n",
    "    X,X_biofeat,y = data\n",
    "\n",
    "    df = pd.DataFrame(columns=['seq' ,'y'])\n",
    "\n",
    "    df['seq'] = remake(X)\n",
    "\n",
    "    if with_biofeat:\n",
    "        #make 11 biofeat columns\n",
    "        for i in range(11):\n",
    "            df['biofeat_'+ str(i)] = X_biofeat[:,i]\n",
    "\n",
    "    df['y'] = y\n",
    "\n",
    "    # print(df.head())\n",
    "    # print(df.shape)\n",
    "\n",
    "    #split df into train and test\n",
    "    train, test = train_test_split(df, test_size=0.2, random_state=42)\n",
    "\n",
    "    print(f\"New  {name} dataset\")\n",
    "    print(train.head())\n",
    "    print(\"Train shape = \", train.shape)\n",
    "    print(\"Test shape = \", test.shape)\n",
    "\n",
    "\n",
    "    if(with_biofeat):\n",
    "        name += '_biofeat'\n",
    "\n",
    "    #create dir if not exist\n",
    "    if not os.path.exists(f'./data/{name}'):\n",
    "        os.makedirs(f'./data/{name}')\n",
    "    \n",
    "    #remove files if exist\n",
    "    if os.path.exists(f'./data/{name}/test_{name}_decoded.csv'):\n",
    "        os.remove(f'./data/{name}/test_{name}_decoded.csv')\n",
    "    if os.path.exists(f'./data/{name}/train_{name}_decoded.csv'):\n",
    "        os.remove(f'./data/{name}/train_{name}_decoded.csv')\n",
    "    \n",
    "\n",
    "    #save to csv\n",
    "    test.to_csv(f'./data/{name}/test_{name}_decoded.csv', index=False)\n",
    "    train.to_csv(f'./data/{name}/train_{name}_decoded.csv', index=False)\n",
    "    print(\"Saved to csv\")\n",
    "    print(\"\")"
   ]
  },
  {
   "cell_type": "code",
   "execution_count": 9,
   "metadata": {},
   "outputs": [
    {
     "name": "stdout",
     "output_type": "stream",
     "text": [
      "New  esp dataset\n",
      "                         seq        y  biofeat_0  biofeat_1  biofeat_2  \\\n",
      "39356  GCCTGCGAAAAGAGCACGCGC  0.32730        0.0       -5.7      -26.5   \n",
      "32257  GAGGGGGCCGAGTCGATACTC  0.18817        0.0       -0.2      -28.4   \n",
      "54966  GTCTTTGTATCACATCGCAGT  0.27452        0.0        0.0      -23.3   \n",
      "8225   ACATCCTCCAGGTTTGCCAAA  0.18480        0.0       -0.3      -27.7   \n",
      "47188  GGCCCATTAGTCGAAGGATGA  0.27203        0.0       -1.3      -25.6   \n",
      "\n",
      "       biofeat_3  biofeat_4  biofeat_5  biofeat_6  biofeat_7  biofeat_8  \\\n",
      "39356      -12.3        1.0        0.0       13.0   62.32084    8.82756   \n",
      "32257      -14.9        1.0        0.0       13.0   57.92372  -26.65553   \n",
      "54966      -13.1        0.0        1.0        9.0   50.65496   -3.01763   \n",
      "8225       -16.8        0.0        0.0       10.0   54.13293  -11.57110   \n",
      "47188      -11.5        1.0        0.0       11.0   53.69039  -18.02492   \n",
      "\n",
      "       biofeat_9  biofeat_10  \n",
      "39356   16.80335   -48.92131  \n",
      "32257   27.87738   -53.11741  \n",
      "54966    8.24185   -61.13408  \n",
      "8225    19.78118   -71.63251  \n",
      "47188   12.09475   -38.85893  \n",
      "Train shape =  (46893, 13)\n",
      "Test shape =  (11724, 13)\n",
      "Saved to csv\n",
      "\n",
      "New  hf dataset\n",
      "                         seq        y  biofeat_0  biofeat_1  biofeat_2  \\\n",
      "34059  GCAAGTGTCGTGGGGCTTGCT  0.04462        1.0       -6.6      -28.8   \n",
      "45818  GGCCCTCCGCGAGATGATCGA  0.59556        0.0       -0.6      -30.7   \n",
      "41291  GCTGGTAGTAGGCGTAGGCGA  0.34866        0.0       -2.1      -28.2   \n",
      "43018  GGACATAGTTGCAATAACAGC  0.59821        0.0        0.0      -19.4   \n",
      "46687  GGCTGAAAGAGTCCGCAAGGA  0.07991        0.0       -2.7      -25.1   \n",
      "\n",
      "       biofeat_3  biofeat_4  biofeat_5  biofeat_6  biofeat_7  biofeat_8  \\\n",
      "34059      -18.3        1.0        0.0       13.0   60.17865  -13.37661   \n",
      "45818      -14.1        1.0        0.0       14.0   60.50829  -14.36867   \n",
      "41291      -17.1        1.0        0.0       13.0   57.86478   -4.54081   \n",
      "43018      -10.7        0.0        1.0        8.0   49.61146  -11.83277   \n",
      "46687      -15.7        1.0        0.0       12.0   56.77729  -17.03466   \n",
      "\n",
      "       biofeat_9  biofeat_10  \n",
      "34059   22.79206   -51.68418  \n",
      "45818   27.25995   -38.85893  \n",
      "41291   13.99371   -44.28226  \n",
      "43018   10.65673   -50.45276  \n",
      "46687   10.94852   -48.92131  \n",
      "Train shape =  (45510, 13)\n",
      "Test shape =  (11378, 13)\n",
      "Saved to csv\n",
      "\n",
      "New  wt dataset\n",
      "                         seq        y  biofeat_0  biofeat_1  biofeat_2  \\\n",
      "44465  GGCATGGCTGTGATAATCACC  0.71144        0.0       -1.1      -23.7   \n",
      "42699  GGAGATCACTAAGCATGCAGT  0.93021        0.0        0.0      -22.6   \n",
      "26307  GAAGAGGCGAGAAACAAGTCA  0.71425        1.0       -0.1      -19.9   \n",
      "45504  GGCTAAGACCCGTTCTTCAAG  0.54651        0.0        0.0      -25.6   \n",
      "32073  GATGCAATTCGACAGCTAGGA  0.38192        0.0        0.0      -22.8   \n",
      "\n",
      "       biofeat_3  biofeat_4  biofeat_5  biofeat_6  biofeat_7  biofeat_8  \\\n",
      "44465      -10.7        0.0        0.0       10.0   53.58793  -17.01813   \n",
      "42699      -12.8        0.0        0.0       10.0   51.98141  -11.33894   \n",
      "26307      -10.1        0.0        0.0       10.0   52.48234  -21.70987   \n",
      "45504      -15.8        0.0        0.0       10.0   52.89349  -21.60798   \n",
      "32073      -14.1        0.0        0.0       10.0   52.40361  -22.07066   \n",
      "\n",
      "       biofeat_9  biofeat_10  \n",
      "44465   20.64181   -45.88980  \n",
      "42699    6.26984   -53.11741  \n",
      "26307   20.56359   -58.60395  \n",
      "45504   19.87086   -48.92131  \n",
      "32073   14.25344   -58.40955  \n",
      "Train shape =  (44483, 13)\n",
      "Test shape =  (11121, 13)\n",
      "Saved to csv\n",
      "\n",
      "New  esp dataset\n",
      "                         seq        y\n",
      "39356  GCCTGCGAAAAGAGCACGCGC  0.32730\n",
      "32257  GAGGGGGCCGAGTCGATACTC  0.18817\n",
      "54966  GTCTTTGTATCACATCGCAGT  0.27452\n",
      "8225   ACATCCTCCAGGTTTGCCAAA  0.18480\n",
      "47188  GGCCCATTAGTCGAAGGATGA  0.27203\n",
      "Train shape =  (46893, 2)\n",
      "Test shape =  (11724, 2)\n",
      "Saved to csv\n",
      "\n",
      "New  hf dataset\n",
      "                         seq        y\n",
      "34059  GCAAGTGTCGTGGGGCTTGCT  0.04462\n",
      "45818  GGCCCTCCGCGAGATGATCGA  0.59556\n",
      "41291  GCTGGTAGTAGGCGTAGGCGA  0.34866\n",
      "43018  GGACATAGTTGCAATAACAGC  0.59821\n",
      "46687  GGCTGAAAGAGTCCGCAAGGA  0.07991\n",
      "Train shape =  (45510, 2)\n",
      "Test shape =  (11378, 2)\n",
      "Saved to csv\n",
      "\n",
      "New  wt dataset\n",
      "                         seq        y\n",
      "44465  GGCATGGCTGTGATAATCACC  0.71144\n",
      "42699  GGAGATCACTAAGCATGCAGT  0.93021\n",
      "26307  GAAGAGGCGAGAAACAAGTCA  0.71425\n",
      "45504  GGCTAAGACCCGTTCTTCAAG  0.54651\n",
      "32073  GATGCAATTCGACAGCTAGGA  0.38192\n",
      "Train shape =  (44483, 2)\n",
      "Test shape =  (11121, 2)\n",
      "Saved to csv\n",
      "\n"
     ]
    }
   ],
   "source": [
    "#load data\n",
    "create_dataset('esp', with_biofeat=True)\n",
    "create_dataset('hf', with_biofeat=True)\n",
    "create_dataset('wt', with_biofeat=True)\n",
    "\n",
    "create_dataset('esp', with_biofeat=False)\n",
    "create_dataset('hf', with_biofeat=False)\n",
    "create_dataset('wt', with_biofeat=False)"
   ]
  },
  {
   "cell_type": "code",
   "execution_count": 10,
   "metadata": {},
   "outputs": [],
   "source": [
    "#compare different biofeats\n",
    "\n",
    "# with open(r'./data/esp_seq_data_array.pkl', 'rb') as handle:\n",
    "#     esp_data = pickle.load(handle)\n",
    "# with open(r'./data/hf_seq_data_array.pkl', 'rb') as handle:\n",
    "#     hf_data = pickle.load(handle)\n",
    "# with open(r'./data/wt_seq_data_array.pkl', 'rb') as handle:\n",
    "#     wt_data = pickle.load(handle)\n",
    "\n",
    "# X_wt,X_biofeat_wt,y_wt = wt_data\n",
    "# X_esp,X_biofeat_esp,y_esp = esp_data\n",
    "# X_hf,X_biofeat_hf,y_hf = hf_data\n",
    "\n",
    "# print(\"wt to esp\")\n",
    "# for i in range(10):\n",
    "#     if(X_biofeat_wt[1,i] !=  X_biofeat_esp[1,i]):\n",
    "#         print(\"Biofeat not equal\")\n",
    "#     if(X_wt[1,i] !=  X_esp[1,i]):\n",
    "#         print(\"X not equal\")\n",
    "#     if(y_wt[1] !=  y_esp[1]):\n",
    "#         print(\"y not equal\")\n",
    "\n",
    "# print(\"wt to hf\")\n",
    "# for i in range(10):\n",
    "#     if(X_biofeat_wt[1,i] !=  X_biofeat_hf[1,i]):\n",
    "#         print(\"Biofeat not equal\")\n",
    "#     if(X_wt[1,i] !=  X_hf[1,i]):\n",
    "#         print(\"X not equal\")\n",
    "#     if(y_wt[1] !=  y_hf[1]):\n",
    "#         print(\"y not equal\")\n",
    "\n",
    "# print(\"hf to esp\")\n",
    "# for i in range(10):\n",
    "#     if(X_biofeat_hf[1,i] !=  X_biofeat_esp[1,i]):\n",
    "#         print(\"Biofeat not equal\")\n",
    "#     if(X_hf[1,i] !=  X_esp[1,i]):\n",
    "#         print(\"X not equal\")\n",
    "#     if(y_hf[1] !=  y_esp[1]):\n",
    "#         print(\"y not equal\")"
   ]
  },
  {
   "cell_type": "markdown",
   "metadata": {},
   "source": [
    "We can conclude that only the enzyme is different so onl;y different y on datasets"
   ]
  },
  {
   "cell_type": "markdown",
   "metadata": {},
   "source": []
  }
 ],
 "metadata": {
  "kernelspec": {
   "display_name": "crispr",
   "language": "python",
   "name": "python3"
  },
  "language_info": {
   "codemirror_mode": {
    "name": "ipython",
    "version": 3
   },
   "file_extension": ".py",
   "mimetype": "text/x-python",
   "name": "python",
   "nbconvert_exporter": "python",
   "pygments_lexer": "ipython3",
   "version": "3.6.5"
  }
 },
 "nbformat": 4,
 "nbformat_minor": 2
}
