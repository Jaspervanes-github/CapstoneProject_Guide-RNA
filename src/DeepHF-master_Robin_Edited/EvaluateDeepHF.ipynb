{
 "cells": [
  {
   "cell_type": "markdown",
   "metadata": {},
   "source": [
    "### 1. Prediction Demo"
   ]
  },
  {
   "cell_type": "code",
   "execution_count": 24,
   "metadata": {},
   "outputs": [
    {
     "name": "stdout",
     "output_type": "stream",
     "text": [
      "The autoreload extension is already loaded. To reload it, use:\n",
      "  %reload_ext autoreload\n"
     ]
    }
   ],
   "source": [
    "%load_ext autoreload\n",
    "%autoreload 2\n",
    "from prediction_util import *\n"
   ]
  },
  {
   "cell_type": "code",
   "execution_count": 25,
   "metadata": {},
   "outputs": [],
   "source": [
    "from training_util import *"
   ]
  },
  {
   "cell_type": "code",
   "execution_count": 26,
   "metadata": {},
   "outputs": [],
   "source": [
    "#WNT1(NM_005430.3) DNA sequence for example\n",
    "seq = '''GCGGTGCCGCCCGCCGTGGCCGCCTCAGCCCACCAGCCGGGACCGCGAGCCATGCTGTCCGCCGCCCGCCCCCAGGGTTGTTAAAGCCAGACTGCGAACTCTCGCCACTGCCGCCACCGCCGCGTCCCGTCCCACCGTCGCGGGCAACAACCAAAGTCGCCGCAACTGCAGCACAGAGCGGGCAAAGCCAGGCAGGCCATGGGGCTCTGGGCGCTGTTGCCTGGCTGGGTTTCTGCTACGCTGCTGCTGGCGCTGGCCGCTCTGCCCGCAGCCCTGGCTGCCAACAGCAGTGGCCGATGGTGGGGTATTGTGAACGTAGCCTCCTCCACGAACCTGCTTACAGACTCCAAGAGTCTGCAACTGGTACTCGAGCCCAGTCTGCAGCTGTTGAGCCGCAAACAGCGGCGTCTGATACGCCAAAATCCGGGGATCCTGCACAGCGTGAGTGGGGGGCTGCAGAGTGCCGTGCGCGAGTGCAAGTGGCAGTTCCGGAATCGCCGCTGGAACTGTCCCACTGCTCCAGGGCCCCACCTCTTCGGCAAGATCGTCAACCGAGGCTGTCGAGAAACGGCGTTTATCTTCGCTATCACCTCCGCCGGGGTCACCCATTCGGTGGCGCGCTCCTGCTCAGAAGGTTCCATCGAATCCTGCACGTGTGACTACCGGCGGCGCGGCCCCGGGGGCCCCGACTGGCACTGGGGGGGCTGCAGCGACAACATTGACTTCGGCCGCCTCTTCGGCCGGGAGTTCGTGGACTCCGGGGAGAAGGGGCGGGACCTGCGCTTCCTCATGAACCTTCACAACAACGAGGCAGGCCGTACGACCGTATTCTCCGAGATGCGCCAGGAGTGCAAGTGCCACGGGATGTCCGGCTCATGCACGGTGCGCACGTGCTGGATGCGGCTGCCCACGCTGCGCGCCGTGGGCGATGTGCTGCGCGACCGCTTCGACGGCGCCTCGCGCGTCCTGTACGGCAACCGCGGCAGCAACCGCGCTTCGCGGGCGGAGCTGCTGCGCCTGGAGCCGGAAGACCCGGCCCACAAACCGCCCTCCCCCCACGACCTCGTCTACTTCGAGAAATCGCCCAACTTCTGCACGTACAGCGGACGCCTGGGCACAGCAGGCACGGCAGGGCGCGCCTGTAACAGCTCGTCGCCCGCGCTGGACGGCTGCGAGCTGCTCTGCTGCGGCAGGGGCCACCGCACGCGCACGCAGCGCGTCACCGAGCGCTGCAACTGCACCTTCCACTGGTGCTGCCACGTCAGCTGCCGCAACTGCACGCACACGCGCGTACTGCACGAGTGTCTGTGAGGCGCTGCGCGGACTCGCCCCCAGGAACGCTCTCCTCGAGCCCTCCCCCAAACAGACTCGCTAGCACTCAAGACCCGGTTATTCGCCCACCCGAGTACCTCCAGTCACACTCCCCGCGGTTCATACGCATCCCATCTCTCCCACTTCCTCCTACCTGGGGACTCCTCAAACCACTTGCCTGGGGCGGCATGAACCCTCTTGCCATCCTGATGGACCTGCCCCGGACCTACCTCCCTCCCTCTCCGCGGGAGACCCCTTGTTGCACTGCCCCCTGCTTGGCCAGGAGGTGAGAGAAGGATGGGTCCCCTCCGCCATGGGGTCGGCTCCTGATGGTGTCATTCTGCCTGCTCCATCGCGCCAGCGACCTCTCTGCCTCTCTTCTTCCCCTTTGTCCTGCGTTTTCTCCGGGTCCTCCTAAGTCCCTTCCTATTCTCCTGCCATGGGTGCAGACCCTGAACCCACACCTGGGCATCAGGGCCTTTCTCCTCCCCACCTGTAGCTGAAGCAGGAGGTTACAGGGCAAAAGGGCAGCTGTGATGATGTGGAAATGAGGTTGGGGGAACCAGCAGAAATGCCCCCATTCTCCCAGTCTCTGTCGTGGAGCCATTGAACAGCTGTGAGCCATGCCTCCCTGGGCCACCTCCTACCCCTTCCTGTCCTGCCTCCTCATCAGTGTGTAAATAATTTGCACTGAAACGTGGATACAGAGCCACGAGTTTGGATGTTGTAAATAAAACTATTTATTGTGCTGGGTCCCAGCCTGGTTTGCAAAGACCACCTCCAACCCAACCCAATCCCTCTCCACTCTTCTCTCCTTTCTCCCTGCAGCCTTTTCTGGTCCCTCTTCTCTCCTCAGTTTCTCAAAGATGCGTTTGCCTCCTGGAATCAGTATTTCCTTCCACTGTAGCTATTAGCGGCTCCTCGCCCCCACCAGTGTAGCATCTTCCTCTGCAGAATAAAATCTCTATTTTTA'''\n",
    "enzyme = 'esp'"
   ]
  },
  {
   "cell_type": "code",
   "execution_count": 27,
   "metadata": {},
   "outputs": [
    {
     "name": "stdout",
     "output_type": "stream",
     "text": [
      "ACGTGTGACTACCGGCGGCGCGG\n",
      "  Strand  Cut_Pos                  21mer  PAM\n",
      "0      +       18  ACGATCGCCACGGATCAGGAA  AGG\n",
      "Constructing sencondary structure features.\n",
      "N-None,N2-1\n",
      "N-None,N2-1\n",
      "Constructing nucleotide features.\n",
      "N-None,N2-1\n",
      "N-None,N2-1\n",
      "X_1= [[1 2 4 5 2 3 4 5 4 4 2 4 5 5 2 3 4 2 5 5 2 2]]\n",
      "inputs  [array([[1, 2, 4, 5, 2, 3, 4, 5, 4, 4, 2, 4, 5, 5, 2, 3, 4, 2, 5, 5, 2, 2]]), array([[  0.        ,  -4.4       , -27.        , -16.1       ,\n",
      "          1.        ,   0.        ,  12.        ,  58.04914121,\n",
      "        -17.03466297,  30.45059563, -53.87259534]])]\n",
      "<class 'list'>\n",
      "<class 'numpy.ndarray'>\n",
      "<class 'numpy.ndarray'>\n",
      "(1, 22)\n",
      "(1, 11)\n"
     ]
    },
    {
     "data": {
      "text/html": [
       "<div>\n",
       "<style scoped>\n",
       "    .dataframe tbody tr th:only-of-type {\n",
       "        vertical-align: middle;\n",
       "    }\n",
       "\n",
       "    .dataframe tbody tr th {\n",
       "        vertical-align: top;\n",
       "    }\n",
       "\n",
       "    .dataframe thead th {\n",
       "        text-align: right;\n",
       "    }\n",
       "</style>\n",
       "<table border=\"1\" class=\"dataframe\">\n",
       "  <thead>\n",
       "    <tr style=\"text-align: right;\">\n",
       "      <th></th>\n",
       "      <th>index</th>\n",
       "      <th>Strand</th>\n",
       "      <th>Cut_Pos</th>\n",
       "      <th>PAM</th>\n",
       "      <th>gRNA_Seq</th>\n",
       "      <th>Efficiency</th>\n",
       "    </tr>\n",
       "  </thead>\n",
       "  <tbody>\n",
       "    <tr>\n",
       "      <th>0</th>\n",
       "      <td>0</td>\n",
       "      <td>+</td>\n",
       "      <td>18</td>\n",
       "      <td>AGG</td>\n",
       "      <td>ACGATCGCCACGGATCAGGA</td>\n",
       "      <td>0.43175</td>\n",
       "    </tr>\n",
       "  </tbody>\n",
       "</table>\n",
       "</div>"
      ],
      "text/plain": [
       "   index Strand  Cut_Pos  PAM              gRNA_Seq  Efficiency\n",
       "0      0      +       18  AGG  ACGATCGCCACGGATCAGGA     0.43175"
      ]
     },
     "execution_count": 27,
     "metadata": {},
     "output_type": "execute_result"
    }
   ],
   "source": [
    "#ACGTGTGACTACCGGCGGCGCGG\n",
    "#GACGATCGCCACGGATCAGGAAGG\n",
    "print(\"ACGTGTGACTACCGGCGGCGCGG\")\n",
    "effciency_predict('GACGATCGCCACGGATCAGGAAGG','esp')"
   ]
  },
  {
   "cell_type": "code",
   "execution_count": 28,
   "metadata": {},
   "outputs": [
    {
     "name": "stdout",
     "output_type": "stream",
     "text": [
      "                     seq        y  biofeat_0  biofeat_1  biofeat_2  biofeat_3  \\\n",
      "0  GACGATCGCCACGGATCAGGA  0.50806        0.0       -4.4      -27.0      -17.3   \n",
      "1  ACCATCAAGCCTTACCACCGA  0.75802        0.0        0.0      -27.7      -18.1   \n",
      "2  ACAGCTCCTCACACGGAAGGG  0.32726        0.0       -2.2      -26.2      -13.9   \n",
      "3  GTGTGCCCACCAGACCACAAA  0.49531        0.0       -1.7      -29.5      -15.0   \n",
      "4  AGCACAAGACGCAATCGACGA  0.56173        0.0       -0.4      -22.9      -13.9   \n",
      "\n",
      "   biofeat_4  biofeat_5  biofeat_6  biofeat_7  biofeat_8  biofeat_9  \\\n",
      "0        1.0        0.0       13.0   58.47199  -17.97340   26.31374   \n",
      "1        1.0        0.0       11.0   55.47509   -6.30355   15.48638   \n",
      "2        1.0        0.0       12.0   58.16328  -12.77203   16.13550   \n",
      "3        1.0        0.0       12.0   57.42712  -18.84159   25.76093   \n",
      "4        1.0        0.0       11.0   57.17986   -3.29902   21.40798   \n",
      "\n",
      "   biofeat_10  \n",
      "0   -42.11576  \n",
      "1   -62.27551  \n",
      "2   -59.27353  \n",
      "3   -56.42897  \n",
      "4   -56.77776  \n"
     ]
    }
   ],
   "source": [
    "#load csv dataset\n",
    "df = pd.read_csv('data/esp_biofeat/test_esp_biofeat_decoded.csv')\n",
    "\n",
    "dft = pd.read_csv('data/esp_biofeat/train_esp_biofeat_decoded.csv')\n",
    "\n",
    "print(df.head())"
   ]
  },
  {
   "cell_type": "code",
   "execution_count": 29,
   "metadata": {},
   "outputs": [],
   "source": [
    "import sklearn.metrics\n",
    "import scipy.stats\n",
    "\n",
    "def compute_metrics(actual, pred):\n",
    "    \n",
    "    mse = sklearn.metrics.mean_squared_error(actual, pred)\n",
    "    mae = sklearn.metrics.mean_absolute_error(actual, pred)\n",
    "    r2 = sklearn.metrics.r2_score(actual, pred)\n",
    "\n",
    "    #calculate spearman correlation\n",
    "    rho, p = scipy.stats.spearmanr(actual, pred)\n",
    "    \n",
    "\n",
    "    return {\"mse\": mse, \"mae\": mae, \"r2\": r2, \"rho\": rho}"
   ]
  },
  {
   "cell_type": "code",
   "execution_count": 30,
   "metadata": {},
   "outputs": [
    {
     "name": "stdout",
     "output_type": "stream",
     "text": [
      "Record amount: 11724\n",
      "0\n",
      "1000\n",
      "2000\n",
      "3000\n",
      "4000\n",
      "5000\n",
      "6000\n",
      "7000\n",
      "8000\n",
      "9000\n",
      "10000\n",
      "11000\n",
      "0\n",
      "1000\n",
      "2000\n",
      "3000\n",
      "4000\n",
      "5000\n",
      "6000\n",
      "7000\n",
      "8000\n",
      "9000\n",
      "10000\n",
      "11000\n",
      "12000\n",
      "13000\n",
      "14000\n",
      "15000\n",
      "16000\n",
      "17000\n",
      "18000\n",
      "19000\n",
      "20000\n",
      "21000\n",
      "22000\n",
      "23000\n",
      "24000\n",
      "25000\n",
      "26000\n",
      "27000\n",
      "28000\n",
      "29000\n",
      "30000\n",
      "31000\n",
      "32000\n",
      "33000\n",
      "34000\n",
      "35000\n",
      "36000\n",
      "37000\n",
      "38000\n",
      "39000\n",
      "40000\n",
      "41000\n",
      "42000\n",
      "43000\n",
      "44000\n",
      "45000\n",
      "46000\n",
      "{'mse': 0.007884974681806795, 'mae': 0.06694953559749606, 'r2': 0.7756395842337507, 'rho': 0.8861809680940833}\n"
     ]
    }
   ],
   "source": [
    "import numpy\n",
    "inputs = []\n",
    "\n",
    "pred = []\n",
    "actual = []\n",
    "\n",
    "dflen = len(df)\n",
    "print('Record amount:',dflen)\n",
    "\n",
    "for i in range(dflen):\n",
    "    X_biofeat_row = [df['biofeat_0'][i], df['biofeat_1'][i], df['biofeat_2'][i], df['biofeat_3'][i], df['biofeat_4'][i], df['biofeat_5'][i], df['biofeat_6'][i], df['biofeat_7'][i], df['biofeat_8'][i], df['biofeat_9'][i], df['biofeat_10'][i]]\n",
    "    X_biofeat_row = numpy.array([X_biofeat_row])\n",
    "    #print(X_biofeat_row)\n",
    "\n",
    "    X_row = custom_get_embedding_data_fast([df['seq'][i]])\n",
    "\n",
    "    inputs = [X_row, X_biofeat_row]\n",
    "\n",
    "    #print(inputs)\n",
    "\n",
    "    # print(type(inputs))\n",
    "    # print(type(inputs[0]))\n",
    "    # print(type(inputs[1]))\n",
    "    # print(inputs[0].shape)\n",
    "    # print(inputs[1].shape)\n",
    "\n",
    "    y_pred = custom_predict_fast(inputs, 'esp')\n",
    "    #print(df['seq'][i],\" \", float(y_pred) , \" = \" ,df['y'][i])\n",
    "    #print(compute_metrics([df['y'][i]], [float(y_pred)]))\n",
    "\n",
    "    pred.append(float(y_pred))\n",
    "    actual.append(df['y'][i])\n",
    "    if(i % 1000 == 0):\n",
    "        print(i)\n",
    "\n",
    "\n",
    "for i in range(len(dft)):\n",
    "    X_biofeat_row = [dft['biofeat_0'][i], dft['biofeat_1'][i], dft['biofeat_2'][i], dft['biofeat_3'][i], dft['biofeat_4'][i], dft['biofeat_5'][i], dft['biofeat_6'][i], dft['biofeat_7'][i], dft['biofeat_8'][i], dft['biofeat_9'][i], dft['biofeat_10'][i]]\n",
    "    X_biofeat_row = numpy.array([X_biofeat_row])\n",
    "    #print(X_biofeat_row)\n",
    "\n",
    "    X_row = custom_get_embedding_data_fast([dft['seq'][i]])\n",
    "\n",
    "    inputs = [X_row, X_biofeat_row]\n",
    "\n",
    "    #print(inputs)\n",
    "\n",
    "    # print(type(inputs))\n",
    "    # print(type(inputs[0]))\n",
    "    # print(type(inputs[1]))\n",
    "    # print(inputs[0].shape)\n",
    "    # print(inputs[1].shape)\n",
    "\n",
    "    y_pred = custom_predict_fast(inputs, 'esp')\n",
    "    #print(df['seq'][i],\" \", float(y_pred) , \" = \" ,df['y'][i])\n",
    "    #print(compute_metrics([df['y'][i]], [float(y_pred)]))\n",
    "\n",
    "    pred.append(float(y_pred))\n",
    "    actual.append(dft['y'][i])\n",
    "    if(i % 1000 == 0):\n",
    "        print(i)\n",
    "\n",
    "\n",
    "print(compute_metrics(actual, pred))\n",
    "#calculate the correlation between the predicted and actual values\n"
   ]
  }
 ],
 "metadata": {
  "kernelspec": {
   "display_name": "crispr",
   "language": "python",
   "name": "python3"
  },
  "language_info": {
   "codemirror_mode": {
    "name": "ipython",
    "version": 3
   },
   "file_extension": ".py",
   "mimetype": "text/x-python",
   "name": "python",
   "nbconvert_exporter": "python",
   "pygments_lexer": "ipython3",
   "version": "3.6.5"
  }
 },
 "nbformat": 4,
 "nbformat_minor": 2
}
