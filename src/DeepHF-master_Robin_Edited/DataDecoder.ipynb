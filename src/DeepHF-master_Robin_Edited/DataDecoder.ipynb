{
 "cells": [
  {
   "cell_type": "code",
   "execution_count": 20,
   "metadata": {},
   "outputs": [],
   "source": [
    "import pickle\n",
    "\n",
    "\n",
    "#load data\n",
    "with open(r'./data/esp_seq_data_array.pkl', 'rb') as handle:\n",
    "    esp_data = pickle.load(handle)\n",
    "with open(r'./data/hf_seq_data_array.pkl', 'rb') as handle:\n",
    "    hf_data = pickle.load(handle)\n",
    "with open(r'./data/wt_seq_data_array.pkl', 'rb') as handle:\n",
    "    wt_data = pickle.load(handle)"
   ]
  },
  {
   "cell_type": "code",
   "execution_count": 3,
   "metadata": {},
   "outputs": [],
   "source": [
    "X,X_biofeat,y = esp_data"
   ]
  },
  {
   "cell_type": "code",
   "execution_count": 4,
   "metadata": {},
   "outputs": [
    {
     "name": "stdout",
     "output_type": "stream",
     "text": [
      "ESP data shape =  (58617, 22)\n",
      "[[1 2 2 2 2 2 2 2 2 2 4 3 4 4 2 2 2 2 4 4 4 3]\n",
      " [1 2 2 2 2 2 2 4 2 2 4 2 2 5 2 2 5 4 2 4 2 2]\n",
      " [1 2 2 2 2 2 2 4 2 4 2 2 5 4 2 2 5 2 4 4 5 3]\n",
      " [1 2 2 2 2 2 2 4 2 5 2 3 5 4 4 2 4 4 3 5 3 5]\n",
      " [1 2 2 2 2 2 2 4 4 4 5 3 2 5 2 3 2 5 4 4 3 4]]\n",
      "Biofeat shape =  (58617, 11)\n",
      "[[  0.           0.         -14.7        -13.3          0.\n",
      "    1.           6.          46.86179822 -17.51643717   9.44740125\n",
      "  -77.98477365]\n",
      " [  0.           0.         -14.2        -10.5          0.\n",
      "    1.           6.          47.75596872 -10.18025086  10.85119385\n",
      "  -77.98477365]\n",
      " [  0.           0.         -17.         -13.3          0.\n",
      "    1.           8.          51.62485048  -6.43267221  16.55223598\n",
      "  -77.98477365]\n",
      " [  0.          -1.7        -20.8        -17.1          0.\n",
      "    1.           8.          51.73479019 -10.28003693  15.10601393\n",
      "  -77.98477365]\n",
      " [  1.           0.         -21.4        -16.4          0.\n",
      "    1.           8.          49.86316327  -9.83416842  17.33367012\n",
      "  -77.98477365]]\n",
      "y shape =  (58617,)\n",
      "[0.14206272 0.05190134 0.04357326 0.05234294 0.04623446]\n"
     ]
    }
   ],
   "source": [
    "print(\"ESP data shape = \", X.shape)\n",
    "print(X[:5])\n",
    "\n",
    "print(\"Biofeat shape = \", X_biofeat.shape)\n",
    "print(X_biofeat[:5])\n",
    "\n",
    "print(\"y shape = \", y.shape)\n",
    "print(y[:5])"
   ]
  },
  {
   "cell_type": "code",
   "execution_count": 5,
   "metadata": {},
   "outputs": [
    {
     "name": "stderr",
     "output_type": "stream",
     "text": [
      "C:\\Users\\robin\\AppData\\Roaming\\Python\\Python36\\site-packages\\h5py\\__init__.py:36: FutureWarning: Conversion of the second argument of issubdtype from `float` to `np.floating` is deprecated. In future, it will be treated as `np.float64 == np.dtype(float).type`.\n",
      "  from ._conv import register_converters as _register_converters\n",
      "Using TensorFlow backend.\n",
      "c:\\Users\\robin\\anaconda3\\envs\\crispr\\lib\\site-packages\\keras\\models.py:318: UserWarning: Error in loading the saved optimizer state. As a result, your model is starting with a freshly initialized optimizer.\n",
      "  warnings.warn('Error in loading the saved optimizer '\n"
     ]
    }
   ],
   "source": [
    "from prediction_util import *\n",
    "from keras.preprocessing import sequence"
   ]
  },
  {
   "cell_type": "code",
   "execution_count": 6,
   "metadata": {},
   "outputs": [
    {
     "name": "stdout",
     "output_type": "stream",
     "text": [
      "gRNA_ENC shape =  (5, 22)\n",
      "len =  21\n",
      "len =  21\n",
      "len =  21\n",
      "len =  21\n",
      "len =  21\n",
      "[[1 5 5 4 4 5 4 4 3 4 2 5 4 4 4 2 4 4 2 5 4 4]\n",
      " [1 5 4 4 5 4 4 3 4 2 5 4 4 4 2 4 4 2 5 4 4 5]\n",
      " [1 5 4 3 5 3 4 4 5 4 4 5 4 4 4 5 4 4 4 4 4 2]\n",
      " [1 4 3 5 3 4 4 5 4 4 5 4 4 4 5 4 4 4 4 4 2 5]\n",
      " [1 4 5 4 5 3 4 4 4 5 3 4 4 4 2 4 4 5 3 4 5 4]]\n",
      "['GGCCGCCTCAGCCCACCAGCC', 'GCCGCCTCAGCCCACCAGCCG', 'GCTGTCCGCCGCCCGCCCCCA', 'CTGTCCGCCGCCCGCCCCCAG', 'CGCGTCCCGTCCCACCGTCGC']\n",
      "['GGCCGCCTCAGCCCACCAGCC', 'GCCGCCTCAGCCCACCAGCCG', 'GCTGTCCGCCGCCCGCCCCCA', 'CTGTCCGCCGCCCGCCCCCAG', 'CGCGTCCCGTCCCACCGTCGC']\n"
     ]
    }
   ],
   "source": [
    "gRNA = [\"GGCCGCCTCAGCCCACCAGCC\" ,\"GCCGCCTCAGCCCACCAGCCG\", \"GCTGTCCGCCGCCCGCCCCCA\", \"CTGTCCGCCGCCCGCCCCCAG\", \"CGCGTCCCGTCCCACCGTCGC\"]\n",
    "\n",
    "gRNA_ENC = make_data(gRNA)\n",
    "print(\"gRNA_ENC shape = \", gRNA_ENC.shape)\n",
    "\n",
    "\n",
    "\n",
    "for str in gRNA:\n",
    "    print(\"len = \", len(str))\n",
    "\n",
    "#C=4 G=5 A=2 T=3 START=1\n",
    "\n",
    "def remake(X):\n",
    "    remake = []\n",
    "    for i in range(len(X)):\n",
    "        dna = \"\"\n",
    "        for j in range(len(X[i])):\n",
    "            #if X[i][j] == 1:\n",
    "                #dna+=\"START\"\n",
    "            if X[i][j] == 2:\n",
    "                dna+=\"A\"\n",
    "            elif X[i][j] == 3:\n",
    "                dna+=\"T\"\n",
    "            elif X[i][j] == 4:\n",
    "                dna+=\"C\"\n",
    "            elif X[i][j] == 5:\n",
    "                dna+=\"G\"\n",
    "        remake.append(dna)\n",
    "    return remake\n",
    "\n",
    "\n",
    "\n",
    "print(gRNA_ENC)\n",
    "print(gRNA)\n",
    "print(remake(gRNA_ENC))"
   ]
  },
  {
   "cell_type": "markdown",
   "metadata": {},
   "source": [
    "Check if data actually turns out the same after decoding"
   ]
  },
  {
   "cell_type": "code",
   "execution_count": 7,
   "metadata": {},
   "outputs": [
    {
     "name": "stdout",
     "output_type": "stream",
     "text": [
      "Constructing sencondary structure features.\n",
      "N-None,N2-441\n",
      "N-None,N2-441\n",
      "Constructing nucleotide features.\n",
      "N-None,N2-441\n",
      "N-None,N2-441\n"
     ]
    }
   ],
   "source": [
    "seq = '''GCGGTGCCGCCCGCCGTGGCCGCCTCAGCCCACCAGCCGGGACCGCGAGCCATGCTGTCCGCCGCCCGCCCCCAGGGTTGTTAAAGCCAGACTGCGAACTCTCGCCACTGCCGCCACCGCCGCGTCCCGTCCCACCGTCGCGGGCAACAACCAAAGTCGCCGCAACTGCAGCACAGAGCGGGCAAAGCCAGGCAGGCCATGGGGCTCTGGGCGCTGTTGCCTGGCTGGGTTTCTGCTACGCTGCTGCTGGCGCTGGCCGCTCTGCCCGCAGCCCTGGCTGCCAACAGCAGTGGCCGATGGTGGGGTATTGTGAACGTAGCCTCCTCCACGAACCTGCTTACAGACTCCAAGAGTCTGCAACTGGTACTCGAGCCCAGTCTGCAGCTGTTGAGCCGCAAACAGCGGCGTCTGATACGCCAAAATCCGGGGATCCTGCACAGCGTGAGTGGGGGGCTGCAGAGTGCCGTGCGCGAGTGCAAGTGGCAGTTCCGGAATCGCCGCTGGAACTGTCCCACTGCTCCAGGGCCCCACCTCTTCGGCAAGATCGTCAACCGAGGCTGTCGAGAAACGGCGTTTATCTTCGCTATCACCTCCGCCGGGGTCACCCATTCGGTGGCGCGCTCCTGCTCAGAAGGTTCCATCGAATCCTGCACGTGTGACTACCGGCGGCGCGGCCCCGGGGGCCCCGACTGGCACTGGGGGGGCTGCAGCGACAACATTGACTTCGGCCGCCTCTTCGGCCGGGAGTTCGTGGACTCCGGGGAGAAGGGGCGGGACCTGCGCTTCCTCATGAACCTTCACAACAACGAGGCAGGCCGTACGACCGTATTCTCCGAGATGCGCCAGGAGTGCAAGTGCCACGGGATGTCCGGCTCATGCACGGTGCGCACGTGCTGGATGCGGCTGCCCACGCTGCGCGCCGTGGGCGATGTGCTGCGCGACCGCTTCGACGGCGCCTCGCGCGTCCTGTACGGCAACCGCGGCAGCAACCGCGCTTCGCGGGCGGAGCTGCTGCGCCTGGAGCCGGAAGACCCGGCCCACAAACCGCCCTCCCCCCACGACCTCGTCTACTTCGAGAAATCGCCCAACTTCTGCACGTACAGCGGACGCCTGGGCACAGCAGGCACGGCAGGGCGCGCCTGTAACAGCTCGTCGCCCGCGCTGGACGGCTGCGAGCTGCTCTGCTGCGGCAGGGGCCACCGCACGCGCACGCAGCGCGTCACCGAGCGCTGCAACTGCACCTTCCACTGGTGCTGCCACGTCAGCTGCCGCAACTGCACGCACACGCGCGTACTGCACGAGTGTCTGTGAGGCGCTGCGCGGACTCGCCCCCAGGAACGCTCTCCTCGAGCCCTCCCCCAAACAGACTCGCTAGCACTCAAGACCCGGTTATTCGCCCACCCGAGTACCTCCAGTCACACTCCCCGCGGTTCATACGCATCCCATCTCTCCCACTTCCTCCTACCTGGGGACTCCTCAAACCACTTGCCTGGGGCGGCATGAACCCTCTTGCCATCCTGATGGACCTGCCCCGGACCTACCTCCCTCCCTCTCCGCGGGAGACCCCTTGTTGCACTGCCCCCTGCTTGGCCAGGAGGTGAGAGAAGGATGGGTCCCCTCCGCCATGGGGTCGGCTCCTGATGGTGTCATTCTGCCTGCTCCATCGCGCCAGCGACCTCTCTGCCTCTCTTCTTCCCCTTTGTCCTGCGTTTTCTCCGGGTCCTCCTAAGTCCCTTCCTATTCTCCTGCCATGGGTGCAGACCCTGAACCCACACCTGGGCATCAGGGCCTTTCTCCTCCCCACCTGTAGCTGAAGCAGGAGGTTACAGGGCAAAAGGGCAGCTGTGATGATGTGGAAATGAGGTTGGGGGAACCAGCAGAAATGCCCCCATTCTCCCAGTCTCTGTCGTGGAGCCATTGAACAGCTGTGAGCCATGCCTCCCTGGGCCACCTCCTACCCCTTCCTGTCCTGCCTCCTCATCAGTGTGTAAATAATTTGCACTGAAACGTGGATACAGAGCCACGAGTTTGGATGTTGTAAATAAAACTATTTATTGTGCTGGGTCCCAGCCTGGTTTGCAAAGACCACCTCCAACCCAACCCAATCCCTCTCCACTCTTCTCTCCTTTCTCCCTGCAGCCTTTTCTGGTCCCTCTTCTCTCCTCAGTTTCTCAAAGATGCGTTTGCCTCCTGGAATCAGTATTTCCTTCCACTGTAGCTATTAGCGGCTCCTCGCCCCCACCAGTGTAGCATCTTCCTCTGCAGAATAAAATCTCTATTTTTA'''\n",
    "enzyme = 'esp'\n",
    "\n",
    "encoded = encode_only(seq, enzyme)"
   ]
  },
  {
   "cell_type": "code",
   "execution_count": 8,
   "metadata": {},
   "outputs": [
    {
     "name": "stdout",
     "output_type": "stream",
     "text": [
      "(441, 22)\n",
      "Valid decode\n"
     ]
    }
   ],
   "source": [
    "print(encoded.shape)\n",
    "\n",
    "decoded  = remake(encoded)\n",
    "\n",
    "is_valid = True\n",
    "for i in range(len(decoded)):\n",
    "    if(len(decoded[i]) != 21):\n",
    "        is_valid = False\n",
    "        print(\"ERROR\")\n",
    "        break\n",
    "print(\"Valid decode\")\n"
   ]
  },
  {
   "cell_type": "markdown",
   "metadata": {},
   "source": [
    "Creating new dataset not decoded"
   ]
  },
  {
   "cell_type": "code",
   "execution_count": 21,
   "metadata": {},
   "outputs": [],
   "source": [
    "#create dataframe for seq not encoded\n",
    "import numpy as np\n",
    "\n",
    "X,X_biofeat,y = wt_data"
   ]
  },
  {
   "cell_type": "code",
   "execution_count": 22,
   "metadata": {},
   "outputs": [
    {
     "name": "stdout",
     "output_type": "stream",
     "text": [
      "                     seq        y\n",
      "0  AAAAAAAAACTCCAAAACCCT  0.16857\n",
      "1  AAAAAACAACAAGAAGCACAA  0.09962\n",
      "2  AAAAAACACAAGCAAGACCGT  0.24775\n",
      "3  AAAAAACAGATGCCACCTGTG  0.14123\n",
      "4  AAAAAACCCGTAGATAGCCTC  0.04580\n"
     ]
    }
   ],
   "source": [
    "df = pd.DataFrame(columns=['seq', 'y'])\n",
    "\n",
    "df['seq'] = remake(X)\n",
    "df['y'] = y\n",
    "\n",
    "print(df.head())\n",
    "\n",
    "df.to_csv('./data/wt_decoded.csv', index=False)"
   ]
  }
 ],
 "metadata": {
  "kernelspec": {
   "display_name": "crispr",
   "language": "python",
   "name": "python3"
  },
  "language_info": {
   "codemirror_mode": {
    "name": "ipython",
    "version": 3
   },
   "file_extension": ".py",
   "mimetype": "text/x-python",
   "name": "python",
   "nbconvert_exporter": "python",
   "pygments_lexer": "ipython3",
   "version": "3.6.5"
  }
 },
 "nbformat": 4,
 "nbformat_minor": 2
}
