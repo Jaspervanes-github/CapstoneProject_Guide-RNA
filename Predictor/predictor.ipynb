{
 "cells": [
  {
   "cell_type": "code",
   "execution_count": 49,
   "metadata": {},
   "outputs": [
    {
     "name": "stderr",
     "output_type": "stream",
     "text": [
      "C:\\Users\\robin/.cache\\huggingface\\modules\\transformers_modules\\bert_layers.py:125: UserWarning: Unable to import Triton; defaulting MosaicBERT attention implementation to pytorch (this will reduce throughput when using this model).\n",
      "  warnings.warn(\n"
     ]
    },
    {
     "data": {
      "application/vnd.jupyter.widget-view+json": {
       "model_id": "f63dd28e2a7f4024a28957136eb45128",
       "version_major": 2,
       "version_minor": 0
      },
      "text/plain": [
       "Map:   0%|          | 0/701 [00:00<?, ? examples/s]"
      ]
     },
     "metadata": {},
     "output_type": "display_data"
    },
    {
     "name": "stdout",
     "output_type": "stream",
     "text": [
      "                      seq  Prediction\n",
      "12   GGCGAGGAGCTGTTCACCGG    0.901075\n",
      "55   TGGACGGCGACGTAAACGGC    0.864264\n",
      "349  GCGACACCCTGGTGAACCGC    0.843734\n",
      "54   CTGGACGGCGACGTAAACGG    0.842213\n",
      "396  GAGGACGGCAACATCCTGGG    0.836199\n",
      "..                    ...         ...\n",
      "26   CACCGGGGTGGTGCCCATCC    0.067770\n",
      "19   AGCTGTTCACCGGGGTGGTG    0.066918\n",
      "157  AGCTGCCCGTGCCCTGGCCC    0.052020\n",
      "373  AGCTGAAGGGCATCGACTTC    0.039140\n",
      "28   CCGGGGTGGTGCCCATCCTG    0.007882\n",
      "\n",
      "[701 rows x 2 columns]\n",
      "None\n"
     ]
    }
   ],
   "source": [
    "from torch.utils.data import DataLoader\n",
    "from transformers import DataCollatorWithPadding\n",
    "import transformers\n",
    "import pandas as pd\n",
    "import datasets\n",
    "\n",
    "modelpath = \"./../models/checkpoint-4455/\"\n",
    "\n",
    "tokenizer = transformers.AutoTokenizer.from_pretrained(\n",
    "    modelpath,\n",
    "\n",
    "    model_max_length=100,\n",
    "    padding_side=\"right\",\n",
    "    use_fast=True,\n",
    "    trust_remote_code=True,\n",
    ")\n",
    "\n",
    "model = transformers.AutoModelForSequenceClassification.from_pretrained(\n",
    "    modelpath,\n",
    "    cache_dir=None,\n",
    "    num_labels=1,\n",
    "    trust_remote_code=True,\n",
    ")\n",
    "\n",
    "def tokenize_function(example):\n",
    "        return tokenizer(example[\"seq\"], truncation=True)\n",
    "\n",
    "def post():\n",
    "        dna = \"Atggtgagcaagggcgaggagctgttcaccggggtggtgcccatcctggtcgagctggacggcgacgtaaacggccacaagttcagcgtgtccggcgagggcgagggcgatgccacctacggcaagctgaccctgaagttcatctgcaccaccggcaagctgcccgtgccctggcccaccctcgtgaccaccctgacctacggcgtgcagtgcttcagccgctaccccgaccacatgaagcagcacgacttcttcaagtccgccatgcccgaaggctacgtccaggagcgcaccatcttcttcaaggacgacggcaactacaagacccgcgccgaggtgaagttcgagggcgacaccctggtgaaccgcatcgagctgaagggcatcgacttcaaggaggacggcaacatcctggggcacaagctggagtacaactacaacagccacaacgtctatatcatggccgacaagcagaagaacggcatcaaggtgaacttcaagatccgccacaacatcgaggacggcagcgtgcagctcgccgaccactaccagcagaacacccccatcggcgacggccccgtgctgctgcccgacaaccactacctgagcacccagtccgccctgagcaaagaccccaacgagaagcgcgatcacatggtcctgctggagttcgtgaccgccgccgggatcactctcggcatggacgagctgtacaagtaa\"\n",
    "        dna = dna.upper()\n",
    "\n",
    "        dna_length = len(dna)\n",
    "        twenty_mers = []\n",
    "\n",
    "        for i in range(dna_length - 19):\n",
    "            twenty_mers.append(dna[i:i+20])\n",
    "\n",
    "        df_twenty_mers = pd.DataFrame({'seq' : twenty_mers})\n",
    "        raw_dataset = datasets.Dataset.from_pandas(df_twenty_mers)\n",
    "\n",
    "        tokenized_dataset = raw_dataset.map(tokenize_function, batched=True)\n",
    "        tokenized_dataset.set_format(\"torch\")\n",
    "\n",
    "        y_preds = []\n",
    "        \n",
    "        for row in tokenized_dataset:\n",
    "            y_preds.append([row['seq'] ,model(row[\"input_ids\"].unsqueeze(0), row[\"attention_mask\"].unsqueeze(0))[0].item()])\n",
    "            \n",
    "\n",
    "        df_y_preds = pd.DataFrame(y_preds, columns=[\"seq\", \"Prediction\"])\n",
    "        df_y_preds.sort_values(by=['Prediction'], inplace=True, ascending=False)\n",
    "        print(df_y_preds)\n",
    "\n",
    "\n",
    "\n",
    "        \n",
    "\n",
    "print(post())"
   ]
  }
 ],
 "metadata": {
  "kernelspec": {
   "display_name": "crispr",
   "language": "python",
   "name": "python3"
  },
  "language_info": {
   "codemirror_mode": {
    "name": "ipython",
    "version": 3
   },
   "file_extension": ".py",
   "mimetype": "text/x-python",
   "name": "python",
   "nbconvert_exporter": "python",
   "pygments_lexer": "ipython3",
   "version": "3.11.5"
  }
 },
 "nbformat": 4,
 "nbformat_minor": 2
}
