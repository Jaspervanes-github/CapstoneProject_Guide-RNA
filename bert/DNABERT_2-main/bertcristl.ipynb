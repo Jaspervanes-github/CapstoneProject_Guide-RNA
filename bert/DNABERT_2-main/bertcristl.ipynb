{
 "cells": [
  {
   "cell_type": "code",
   "execution_count": 1,
   "metadata": {},
   "outputs": [
    {
     "data": {
      "text/plain": [
       "True"
      ]
     },
     "execution_count": 1,
     "metadata": {},
     "output_type": "execute_result"
    }
   ],
   "source": [
    "import torch\n",
    "torch.cuda.is_available()\n"
   ]
  },
  {
   "cell_type": "code",
   "execution_count": 3,
   "metadata": {},
   "outputs": [
    {
     "name": "stderr",
     "output_type": "stream",
     "text": [
      "pytorch_model.bin: 100%|██████████| 468M/468M [01:12<00:00, 6.43MB/s] \n",
      "c:\\Users\\robin\\anaconda3\\envs\\dnabert\\lib\\site-packages\\huggingface_hub\\file_download.py:147: UserWarning: `huggingface_hub` cache-system uses symlinks by default to efficiently store duplicated files but your machine does not support them in C:\\Users\\robin\\.cache\\huggingface\\hub. Caching files will still work but in a degraded version that might require more space on your disk. This warning can be disabled by setting the `HF_HUB_DISABLE_SYMLINKS_WARNING` environment variable. For more details, see https://huggingface.co/docs/huggingface_hub/how-to-cache#limitations.\n",
      "To support symlinks on Windows, you either need to activate Developer Mode or to run Python as an administrator. In order to see activate developer mode, see this article: https://docs.microsoft.com/en-us/windows/apps/get-started/enable-your-device-for-development\n",
      "  warnings.warn(message)\n",
      "C:\\Users\\robin/.cache\\huggingface\\modules\\transformers_modules\\zhihan1996\\DNABERT-2-117M\\1d020b803b871a976f5f3d5565f0eac8f2c7bb81\\bert_layers.py:125: UserWarning: Unable to import Triton; defaulting MosaicBERT attention implementation to pytorch (this will reduce throughput when using this model).\n",
      "  warnings.warn(\n",
      "Some weights of the model checkpoint at zhihan1996/DNABERT-2-117M were not used when initializing BertModel: ['cls.predictions.transform.LayerNorm.bias', 'cls.predictions.transform.dense.bias', 'cls.predictions.decoder.weight', 'cls.predictions.transform.dense.weight', 'cls.predictions.transform.LayerNorm.weight', 'cls.predictions.decoder.bias']\n",
      "- This IS expected if you are initializing BertModel from the checkpoint of a model trained on another task or with another architecture (e.g. initializing a BertForSequenceClassification model from a BertForPreTraining model).\n",
      "- This IS NOT expected if you are initializing BertModel from the checkpoint of a model that you expect to be exactly identical (initializing a BertForSequenceClassification model from a BertForSequenceClassification model).\n",
      "Some weights of BertModel were not initialized from the model checkpoint at zhihan1996/DNABERT-2-117M and are newly initialized: ['bert.pooler.dense.bias', 'bert.pooler.dense.weight']\n",
      "You should probably TRAIN this model on a down-stream task to be able to use it for predictions and inference.\n"
     ]
    }
   ],
   "source": [
    "from transformers import AutoTokenizer, AutoModel\n",
    "\n",
    "\n",
    "tokenizer = AutoTokenizer.from_pretrained(\"zhihan1996/DNABERT-2-117M\", trust_remote_code=True)\n",
    "model = AutoModel.from_pretrained(\"zhihan1996/DNABERT-2-117M\", trust_remote_code=True)\n"
   ]
  },
  {
   "cell_type": "code",
   "execution_count": 4,
   "metadata": {},
   "outputs": [
    {
     "name": "stdout",
     "output_type": "stream",
     "text": [
      "torch.Size([768])\n",
      "torch.Size([768])\n"
     ]
    }
   ],
   "source": [
    "dna = \"ACGTAGCATCGGATCTATCTATCGACACTTGGTTATCGATCTACGAGCATCTCGTTAGC\"\n",
    "inputs = tokenizer(dna, return_tensors = 'pt')[\"input_ids\"]\n",
    "hidden_states = model(inputs)[0] # [1, sequence_length, 768]\n",
    "\n",
    "# embedding with mean pooling\n",
    "embedding_mean = torch.mean(hidden_states[0], dim=0)\n",
    "print(embedding_mean.shape) # expect to be 768\n",
    "\n",
    "# embedding with max pooling\n",
    "embedding_max = torch.max(hidden_states[0], dim=0)[0]\n",
    "print(embedding_max.shape) # expect to be 768"
   ]
  },
  {
   "cell_type": "markdown",
   "metadata": {},
   "source": [
    "Move the model downloaded by hugging face in C:\\Users\\robin\\.cache\\huggingface\\hub\\models--zhihan1996--DNABERT-2-117M\\snapshots\\1d020b803b871a976f5f3d5565f0eac8f2c7bb81 to finetune folder"
   ]
  },
  {
   "cell_type": "code",
   "execution_count": 10,
   "metadata": {},
   "outputs": [
    {
     "name": "stdout",
     "output_type": "stream",
     "text": [
      "{'train_runtime': 29.8566, 'train_samples_per_second': 2.512, 'train_steps_per_second': 0.335, 'train_loss': 0.6852713584899902, 'epoch': 5.0}\n"
     ]
    },
    {
     "name": "stderr",
     "output_type": "stream",
     "text": [
      "WARNING:root:Perform single sequence classification...\n",
      "WARNING:root:Perform single sequence classification...\n",
      "WARNING:root:Perform single sequence classification...\n",
      "C:\\Users\\robin/.cache\\huggingface\\modules\\transformers_modules\\1d020b803b871a976f5f3d5565f0eac8f2c7bb81\\bert_layers.py:125: UserWarning: Unable to import Triton; defaulting MosaicBERT attention implementation to pytorch (this will reduce throughput when using this model).\n",
      "  warnings.warn(\n",
      "Some weights of the model checkpoint at models--zhihan1996--DNABERT-2-117M\\snapshots\\1d020b803b871a976f5f3d5565f0eac8f2c7bb81 were not used when initializing BertForSequenceClassification: ['cls.predictions.transform.LayerNorm.weight', 'cls.predictions.transform.dense.weight', 'cls.predictions.transform.LayerNorm.bias', 'cls.predictions.decoder.bias', 'cls.predictions.transform.dense.bias', 'cls.predictions.decoder.weight']\n",
      "- This IS expected if you are initializing BertForSequenceClassification from the checkpoint of a model trained on another task or with another architecture (e.g. initializing a BertForSequenceClassification model from a BertForPreTraining model).\n",
      "- This IS NOT expected if you are initializing BertForSequenceClassification from the checkpoint of a model that you expect to be exactly identical (initializing a BertForSequenceClassification model from a BertForSequenceClassification model).\n",
      "Some weights of BertForSequenceClassification were not initialized from the model checkpoint at models--zhihan1996--DNABERT-2-117M\\snapshots\\1d020b803b871a976f5f3d5565f0eac8f2c7bb81 and are newly initialized: ['bert.pooler.dense.bias', 'classifier.bias', 'classifier.weight', 'bert.pooler.dense.weight']\n",
      "You should probably TRAIN this model on a down-stream task to be able to use it for predictions and inference.\n",
      "Using cuda_amp half precision backend\n",
      "***** Running training *****\n",
      "  Num examples = 15\n",
      "  Num Epochs = 5\n",
      "  Instantaneous batch size per device = 8\n",
      "  Total train batch size (w. parallel, distributed & accumulation) = 8\n",
      "  Gradient Accumulation steps = 1\n",
      "  Total optimization steps = 10\n",
      "  Number of trainable parameters = 117,070,082\n",
      "\n",
      "  0%|          | 0/10 [00:00<?, ?it/s]\n",
      " 10%|█         | 1/10 [00:02<00:19,  2.22s/it]\n",
      " 20%|██        | 2/10 [00:03<00:14,  1.83s/it]\n",
      " 30%|███       | 3/10 [00:07<00:18,  2.67s/it]\n",
      " 40%|████      | 4/10 [00:11<00:18,  3.13s/it]\n",
      " 50%|█████     | 5/10 [00:15<00:16,  3.34s/it]\n",
      " 60%|██████    | 6/10 [00:16<00:10,  2.61s/it]\n",
      " 70%|███████   | 7/10 [00:19<00:08,  2.91s/it]\n",
      " 80%|████████  | 8/10 [00:23<00:06,  3.04s/it]\n",
      " 90%|█████████ | 9/10 [00:26<00:03,  3.18s/it]\n",
      "100%|██████████| 10/10 [00:29<00:00,  3.23s/it]\n",
      "\n",
      "Training completed. Do not forget to share your model on huggingface.co/models =)\n",
      "\n",
      "\n",
      "\n",
      "                                               \n",
      "\n",
      "100%|██████████| 10/10 [00:29<00:00,  3.23s/it]\n",
      "100%|██████████| 10/10 [00:29<00:00,  2.99s/it]\n",
      "***** Running Evaluation *****\n",
      "  Num examples = 15\n",
      "  Batch size = 16\n",
      "\n",
      "  0%|          | 0/1 [00:00<?, ?it/s]\n",
      "100%|██████████| 1/1 [00:00<00:00, 76.94it/s]\n"
     ]
    }
   ],
   "source": [
    "# Training use DataParallel\n",
    "! cd finetune && python train.py \\\n",
    "    --model_name_or_path models--zhihan1996--DNABERT-2-117M\\snapshots\\1d020b803b871a976f5f3d5565f0eac8f2c7bb81 \\\n",
    "    --data_path ..\\sample_data\\ \\\n",
    "    --kmer -1 \\\n",
    "    --run_name DNABERT2_test \\\n",
    "    --model_max_length 100 \\\n",
    "    --per_device_train_batch_size 8 \\\n",
    "    --per_device_eval_batch_size 16 \\\n",
    "    --gradient_accumulation_steps 1 \\\n",
    "    --learning_rate 3e-5 \\\n",
    "    --num_train_epochs 5 \\\n",
    "    --fp16 \\\n",
    "    --save_steps 200 \\\n",
    "    --output_dir output/dnabert2 \\\n",
    "    --evaluation_strategy steps \\\n",
    "    --eval_steps 200 \\\n",
    "    --warmup_steps 50 \\\n",
    "    --logging_steps 100 \\\n",
    "    --overwrite_output_dir True \\\n",
    "    --log_level info \\\n",
    "    --find_unused_parameters False"
   ]
  }
 ],
 "metadata": {
  "kernelspec": {
   "display_name": "py311_c",
   "language": "python",
   "name": "python3"
  },
  "language_info": {
   "codemirror_mode": {
    "name": "ipython",
    "version": 3
   },
   "file_extension": ".py",
   "mimetype": "text/x-python",
   "name": "python",
   "nbconvert_exporter": "python",
   "pygments_lexer": "ipython3",
   "version": "3.8.18"
  }
 },
 "nbformat": 4,
 "nbformat_minor": 2
}
