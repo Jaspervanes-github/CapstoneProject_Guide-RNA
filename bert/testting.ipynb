{
 "cells": [
  {
   "cell_type": "code",
   "execution_count": 1,
   "metadata": {},
   "outputs": [
    {
     "name": "stderr",
     "output_type": "stream",
     "text": [
      "c:\\Users\\robin\\anaconda3\\envs\\dnabert\\lib\\site-packages\\tqdm\\auto.py:21: TqdmWarning: IProgress not found. Please update jupyter and ipywidgets. See https://ipywidgets.readthedocs.io/en/stable/user_install.html\n",
      "  from .autonotebook import tqdm as notebook_tqdm\n",
      "Downloading readme: 100%|██████████| 31.9k/31.9k [00:00<00:00, 946kB/s]\n",
      "Downloading data: 100%|██████████| 649k/649k [00:01<00:00, 502kB/s]\n",
      "Downloading data: 100%|██████████| 75.7k/75.7k [00:00<00:00, 233kB/s]\n",
      "Downloading data: 100%|██████████| 308k/308k [00:00<00:00, 774kB/s]s]\n",
      "Downloading data files: 100%|██████████| 3/3 [00:02<00:00,  1.44it/s]\n",
      "Extracting data files: 100%|██████████| 3/3 [00:00<00:00, 90.58it/s]\n",
      "Generating train split: 100%|██████████| 3668/3668 [00:00<00:00, 42794.02 examples/s]\n",
      "Generating validation split: 100%|██████████| 408/408 [00:00<00:00, 136324.07 examples/s]\n",
      "Generating test split: 100%|██████████| 1725/1725 [00:00<00:00, 288564.37 examples/s]\n",
      "tokenizer_config.json: 100%|██████████| 28.0/28.0 [00:00<00:00, 4.73kB/s]\n",
      "c:\\Users\\robin\\anaconda3\\envs\\dnabert\\lib\\site-packages\\huggingface_hub\\file_download.py:147: UserWarning: `huggingface_hub` cache-system uses symlinks by default to efficiently store duplicated files but your machine does not support them in C:\\Users\\robin\\.cache\\huggingface\\hub. Caching files will still work but in a degraded version that might require more space on your disk. This warning can be disabled by setting the `HF_HUB_DISABLE_SYMLINKS_WARNING` environment variable. For more details, see https://huggingface.co/docs/huggingface_hub/how-to-cache#limitations.\n",
      "To support symlinks on Windows, you either need to activate Developer Mode or to run Python as an administrator. In order to see activate developer mode, see this article: https://docs.microsoft.com/en-us/windows/apps/get-started/enable-your-device-for-development\n",
      "  warnings.warn(message)\n",
      "config.json: 100%|██████████| 570/570 [00:00<00:00, 87.1kB/s]\n",
      "vocab.txt: 100%|██████████| 232k/232k [00:00<00:00, 283kB/s]\n",
      "tokenizer.json: 100%|██████████| 466k/466k [00:00<00:00, 1.04MB/s]\n",
      "Map: 100%|██████████| 3668/3668 [00:00<00:00, 7847.75 examples/s]\n",
      "Map: 100%|██████████| 408/408 [00:00<00:00, 5889.13 examples/s]\n",
      "Map: 100%|██████████| 1725/1725 [00:00<00:00, 8668.39 examples/s]\n"
     ]
    }
   ],
   "source": [
    "from datasets import load_dataset\n",
    "from transformers import AutoTokenizer, DataCollatorWithPadding\n",
    "\n",
    "raw_datasets = load_dataset(\"glue\", \"mrpc\")\n",
    "checkpoint = \"bert-base-uncased\"\n",
    "tokenizer = AutoTokenizer.from_pretrained(checkpoint)\n",
    "\n",
    "\n",
    "def tokenize_function(example):\n",
    "    return tokenizer(example[\"sentence1\"], example[\"sentence2\"], truncation=True)\n",
    "\n",
    "\n",
    "tokenized_datasets = raw_datasets.map(tokenize_function, batched=True)\n",
    "data_collator = DataCollatorWithPadding(tokenizer=tokenizer)"
   ]
  },
  {
   "cell_type": "code",
   "execution_count": 5,
   "metadata": {},
   "outputs": [
    {
     "name": "stdout",
     "output_type": "stream",
     "text": [
      "<class 'datasets.dataset_dict.DatasetDict'>\n",
      "dict_keys(['train', 'validation', 'test'])\n",
      "DatasetDict({\n",
      "    train: Dataset({\n",
      "        features: ['sentence1', 'sentence2', 'label', 'idx'],\n",
      "        num_rows: 3668\n",
      "    })\n",
      "    validation: Dataset({\n",
      "        features: ['sentence1', 'sentence2', 'label', 'idx'],\n",
      "        num_rows: 408\n",
      "    })\n",
      "    test: Dataset({\n",
      "        features: ['sentence1', 'sentence2', 'label', 'idx'],\n",
      "        num_rows: 1725\n",
      "    })\n",
      "})\n",
      "<class 'datasets.dataset_dict.DatasetDict'>\n"
     ]
    }
   ],
   "source": [
    "print(type(raw_datasets))\n",
    "print(raw_datasets.keys())\n",
    "\n",
    "print(raw_datasets)\n",
    "\n",
    "print(type(tokenized_datasets))"
   ]
  }
 ],
 "metadata": {
  "kernelspec": {
   "display_name": "dnabert",
   "language": "python",
   "name": "python3"
  },
  "language_info": {
   "codemirror_mode": {
    "name": "ipython",
    "version": 3
   },
   "file_extension": ".py",
   "mimetype": "text/x-python",
   "name": "python",
   "nbconvert_exporter": "python",
   "pygments_lexer": "ipython3",
   "version": "3.8.18"
  }
 },
 "nbformat": 4,
 "nbformat_minor": 2
}
